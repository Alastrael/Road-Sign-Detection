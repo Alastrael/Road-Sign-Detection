{
 "cells": [
  {
   "cell_type": "code",
   "execution_count": 1,
   "metadata": {},
   "outputs": [],
   "source": [
    "import numpy as np\n",
    "import torch as torch\n",
    "import torchvision.datasets as datasets\n",
    "import torchvision.transforms as transforms\n",
    "import matplotlib.pyplot as plt\n",
    "import pandas as pd\n",
    "from PIL import Image\n",
    "import torch.nn as nn\n",
    "from torch.autograd import Variable\n",
    "from torch.nn import Linear, ReLU, CrossEntropyLoss, Sequential, Conv2d, MaxPool2d, Module, Softmax, BatchNorm2d, Dropout\n",
    "from torch.optim import Adam, SGD\n",
    "import torch.nn.functional as F\n",
    "from torch.utils import data as data"
   ]
  },
  {
   "cell_type": "code",
   "execution_count": 2,
   "metadata": {},
   "outputs": [],
   "source": [
    "DATA_FOLDER = \"panneaux_route\"\n",
    "CLASSES = { \n",
    "    0:\"Limitation de vitesse (20km/h)\",\n",
    "    1:\"Limitation de vitesse (30km/h)\", \n",
    "    2:\"Limitation de vitesse (50km/h)\", \n",
    "    3:\"Limitation de vitesse (60km/h)\", \n",
    "    4:\"Limitation de vitesse (70km/h)\", \n",
    "    5:\"Limitation de vitesse (80km/h)\", \n",
    "    6:\"Fin de limitation de vitesse (80km/h)\", \n",
    "    7:\"Limitation de vitesse (100km/h)\", \n",
    "    8:\"Limitation de vitesse (120km/h)\", \n",
    "    9:\"Interdiction de depasser\", \n",
    "    10:\"Interdiction de depasser pour vehicules > 3.5t\", \n",
    "    11:\"Intersection ou' vous etes prioritaire\", \n",
    "    12:\"Route prioritaire\", \n",
    "    13:\"Ceder le passage\", \n",
    "    14:\"Arret a' l'intersection\", \n",
    "    15:\"Circulation interdite\", \n",
    "    16:\"Acces interdit aux vehicules > 3.5t\", \n",
    "    17:\"Sens interdit\", \n",
    "    18:\"Danger\", \n",
    "    19:\"Virage a' gauche\", \n",
    "    20:\"Virage a' droite\", \n",
    "    21:\"Succession de virages\", \n",
    "    22:\"Cassis ou dos-d'ane\", \n",
    "    23:\"Chaussee glissante\", \n",
    "    24:\"Chaussee retrecie par la droite\", \n",
    "    25:\"Travaux en cours\", \n",
    "    26:\"Annonce feux\", \n",
    "    27:\"Passage pietons\", \n",
    "    28:\"Endroit frequente' par les enfants\", \n",
    "    29:\"Debouche' de cyclistes\", \n",
    "    30:\"Neige ou glace\",\n",
    "    31:\"Passage d'animaux sauvages\", \n",
    "    32:\"Fin des interdictions precedemment signalees\", \n",
    "    33:\"Direction obligatoire a' la prochaine intersection : a' droite\", \n",
    "    34:\"Direction obligatoire a' la prochaine intersection : a' gauche\", \n",
    "    35:\"Direction obligatoire a' la prochaine intersection : tout droit\", \n",
    "    36:\"Direction obligatoire a' la prochaine intersection : tout droit ou a' droite\", \n",
    "    37:\"Direction obligatoire a' la prochaine intersection : tout droit ou a' gauche\", \n",
    "    38:\"Contournement obligatoire de l'obstacle par la droite\", \n",
    "    39:\"Contournement obligatoire de l'obstacle par la gauche\", \n",
    "    40:\"Carrefour giratoire\", \n",
    "    41:\"Fin d'interdiction de depasser\", \n",
    "    42:\"Fin d'interdiction de depasser pour vehicules > 3.5t\" \n",
    "}\n"
   ]
  },
  {
   "cell_type": "code",
   "execution_count": 3,
   "metadata": {},
   "outputs": [
    {
     "name": "stdout",
     "output_type": "stream",
     "text": [
      "(tensor([[[0.2941, 0.2902, 0.3255,  ..., 0.2627, 0.2549, 0.2588],\n",
      "         [0.3216, 0.3098, 0.3451,  ..., 0.2863, 0.2980, 0.3098],\n",
      "         [0.3098, 0.3294, 0.3569,  ..., 0.2824, 0.2902, 0.3059],\n",
      "         ...,\n",
      "         [0.4941, 0.4667, 0.4235,  ..., 0.3804, 0.3882, 0.3882],\n",
      "         [0.3529, 0.3569, 0.3020,  ..., 0.4118, 0.4196, 0.3725],\n",
      "         [0.3333, 0.3686, 0.2706,  ..., 0.3961, 0.3843, 0.3529]],\n",
      "\n",
      "        [[0.3059, 0.2980, 0.3294,  ..., 0.2902, 0.2706, 0.2627],\n",
      "         [0.3255, 0.3176, 0.3412,  ..., 0.3020, 0.3020, 0.3098],\n",
      "         [0.3098, 0.3294, 0.3490,  ..., 0.2902, 0.2941, 0.3059],\n",
      "         ...,\n",
      "         [0.5020, 0.4824, 0.4588,  ..., 0.3765, 0.3961, 0.4039],\n",
      "         [0.3686, 0.3843, 0.3412,  ..., 0.4078, 0.4353, 0.4039],\n",
      "         [0.3294, 0.3882, 0.3137,  ..., 0.4000, 0.3961, 0.3804]],\n",
      "\n",
      "        [[0.3137, 0.3059, 0.3255,  ..., 0.2863, 0.2667, 0.2588],\n",
      "         [0.3333, 0.3255, 0.3294,  ..., 0.3020, 0.2902, 0.3020],\n",
      "         [0.3176, 0.3333, 0.3490,  ..., 0.2824, 0.2784, 0.2941],\n",
      "         ...,\n",
      "         [0.5216, 0.5020, 0.4745,  ..., 0.3529, 0.3686, 0.3882],\n",
      "         [0.3843, 0.4000, 0.3569,  ..., 0.3804, 0.4000, 0.3804],\n",
      "         [0.3412, 0.4078, 0.3373,  ..., 0.3686, 0.3529, 0.3490]]]), 0)\n",
      "Intersection ou' vous etes prioritaire\n"
     ]
    },
    {
     "data": {
      "image/png": "[encoded data removed]",
      "text/plain": [
       "<Figure size 432x288 with 1 Axes>"
      ]
     },
     "metadata": {
      "needs_background": "light"
     },
     "output_type": "display_data"
    }
   ],
   "source": [
    "######### DATA SETS #########\n",
    "from torch.utils.data import Dataset, DataLoader\n",
    "\n",
    "trainingset = datasets.ImageFolder(\"panneaux_route/Train\", transform=transforms.Compose(\n",
    "    [transforms.Resize((32,32)),\n",
    "    transforms.ToTensor()]\n",
    "))\n",
    "\n",
    "print(trainingset[0])\n",
    "print(CLASSES.get(int(trainingset.classes[trainingset[5005][1]]))), plt.imshow(trainingset[5005][0].permute(1,2,0))\n",
    "\n",
    "trainSize = int(0.8 * len(trainingset))\n",
    "validationSize = len(trainingset) - trainSize\n",
    "trainDataset, validationDataset = data.random_split(trainingset, [trainSize, validationSize])\n",
    "\n",
    "trainLoader = DataLoader(trainDataset, batch_size=256, shuffle=True)\n",
    "validationLoader = DataLoader(validationDataset, batch_size=1024)"
   ]
  },
  {
   "cell_type": "code",
   "execution_count": 19,
   "metadata": {},
   "outputs": [
    {
     "name": "stdout",
     "output_type": "stream",
     "text": [
      "11\n"
     ]
    }
   ],
   "source": [
    "print(trainingset.classes[3])"
   ]
  },
  {
   "cell_type": "code",
   "execution_count": 4,
   "metadata": {},
   "outputs": [],
   "source": [
    "######### COMBIEN DE DONNEES PAR CLASSE #########\n",
    "def check_repartition(dico, dataset) :\n",
    "    for images, label in dataset :\n",
    "        if label in dico :\n",
    "            dico[label] += 1\n",
    "        else :\n",
    "            dico[label] = 1"
   ]
  },
  {
   "cell_type": "code",
   "execution_count": 5,
   "metadata": {},
   "outputs": [],
   "source": [
    "######### VERIFIONS LA REPARTITION DES DONNEES #########\n",
    "check_init = {}\n",
    "check_repartition(check_init, trainingset)\n",
    "\n",
    "check_traindataset = {}\n",
    "check_repartition(check_traindataset, trainDataset)\n",
    "\n",
    "check_valid = {}\n",
    "check_repartition(check_valid, validationDataset)\n"
   ]
  },
  {
   "cell_type": "code",
   "execution_count": 6,
   "metadata": {},
   "outputs": [
    {
     "data": {
      "image/png": "[encoded data removed]",
      "text/plain": [
       "<Figure size 432x288 with 1 Axes>"
      ]
     },
     "metadata": {
      "needs_background": "light"
     },
     "output_type": "display_data"
    }
   ],
   "source": [
    "X = np.arange(len(check_init))\n",
    "ax = plt.subplot(111)\n",
    "ax.bar(X, check_init.values(), width=0.4, color='b', align='center')\n",
    "ax.bar(X-0.5, check_traindataset.values(), width=0.4, color='g', align='center')\n",
    "ax.bar(X-0.5, check_valid.values(), width= 0.4, color='r', align='center')\n",
    "ax.legend(('ImageFolder','TrainDataset'))\n",
    "plt.xticks(X, check_init.keys())\n",
    "plt.title(\"Repartition\", fontsize=17)\n",
    "\n",
    "plt.show()"
   ]
  },
  {
   "cell_type": "code",
   "execution_count": 53,
   "metadata": {},
   "outputs": [],
   "source": [
    "def validate_soft(predictions, labels):\n",
    "    nb_errors = ((predictions.argmax(1)) != labels).sum()\n",
    "    return (len(predictions)-nb_errors).item()"
   ]
  },
  {
   "cell_type": "code",
   "execution_count": 67,
   "metadata": {},
   "outputs": [],
   "source": [
    "######### TRAIN LOOP #########\n",
    "def train_loop(train_loader, model, loss_map, lr=1e-3, epochs=20):\n",
    "    history = []\n",
    "    # use gpu if available\n",
    "    device = torch.device(\"cuda\" if torch.cuda.is_available() else \"cpu\")\n",
    "    print(device)\n",
    "    model.to(device)\n",
    "    # create optimizer\n",
    "    optimizer = Adam(model.parameters(), lr=lr)\n",
    "    # Train model\n",
    "    for epoch in range(epochs):\n",
    "        loss_epoch = 0.\n",
    "        train_acc = 0.\n",
    "        val_acc = 0.\n",
    "        for images, labels in train_loader:\n",
    "            # Transfers data to GPU\n",
    "            #images, labels = images.to(device), labels.to(device)\n",
    "            # Primal computation\n",
    "            output = model(images)             \n",
    "            loss = loss_map(output, labels)            \n",
    "            # Gradient computation\n",
    "            model.zero_grad()\n",
    "            loss.backward()\n",
    "            # perform parameter update based on current gradients\n",
    "            optimizer.step()\n",
    "            # compute the epoch training loss\n",
    "            loss_epoch += loss.item()\n",
    "            train_acc += validate_soft(output, labels)\n",
    "        # display the epoch training loss\n",
    "        model.eval()\n",
    "        test_acc = validate(validationLoader, model)\n",
    "        train_acc = 100*train_acc/len(train_loader.dataset)\n",
    "        history.append(\n",
    "            {'epoch' : epoch + 1,\n",
    "             'loss' : loss_epoch,\n",
    "             'train_acc' : train_acc,\n",
    "             'test_acc' : test_acc})\n",
    "        print(f\"epoch : {epoch + 1}/{epochs}, loss = {loss_epoch:.6f}, train_acc = {train_acc}, test_acc = {test_acc}%\")\n",
    "    return history"
   ]
  },
  {
   "cell_type": "code",
   "execution_count": 55,
   "metadata": {},
   "outputs": [],
   "source": [
    "######### VALIDATION #########\n",
    "def validate(data_loader, model):\n",
    "    nb_errors = 0\n",
    "    nb_tests = 0\n",
    "    for i, (images, labels) in enumerate(data_loader):\n",
    "        output = model(images)\n",
    "        nb_errors += ((output.argmax(1)) != labels).sum()\n",
    "        nb_tests += len(images)\n",
    "    \n",
    "    return (100*(nb_tests-nb_errors)) / nb_tests\n",
    "\n",
    "def validate2(data_loader, model):\n",
    "    nb_errors = 0\n",
    "    nb_tests = 0\n",
    "    for i, (images, labels) in enumerate(data_loader):\n",
    "        output = model(images.view(-1, 3, 32, 32)).argmax(1)\n",
    "        predictions = []\n",
    "        for prediction in output.tolist() :\n",
    "            predictions.append(trainingset.classes[prediction])\n",
    "\n",
    "        for i in range(len(predictions)) :\n",
    "            if int(predictions[i]) != int(labels[i]) :\n",
    "                nb_errors += 1\n",
    "        nb_tests += len(images)\n",
    "    \n",
    "    return (100*(nb_tests-nb_errors)) / nb_tests"
   ]
  },
  {
   "cell_type": "code",
   "execution_count": 156,
   "metadata": {},
   "outputs": [],
   "source": [
    "######### MODEL(S) #########\n",
    "class LeNet5(nn.Module):\n",
    "    def __init__(self, dropout=0.0):\n",
    "        super(LeNet5, self).__init__()\n",
    "        self.conv1 = nn.Conv2d(3, 6, kernel_size=(5, 5))\n",
    "        \n",
    "        self.dropout1 = nn.Dropout2d(p=dropout)\n",
    "        self.conv2 = nn.Conv2d(6, 16, kernel_size=(5,5))\n",
    "        self.dropout2 = nn.Dropout2d(p=dropout)\n",
    "        self.conv3 = nn.Conv2d(16, 120, kernel_size=(5,5))\n",
    "        self.dropout3 = nn.Dropout(p=dropout)\n",
    "        self.fc1 = nn.Linear(120, 92)\n",
    "        self.dropout4 = nn.Dropout(p=dropout)\n",
    "        self.fc2 = nn.Linear(92, 68)\n",
    "        self.fc3 = nn.Linear(68, 43)\n",
    "\n",
    "    def forward(self, input):\n",
    "        layer1 = F.relu(self.conv1(input))                        \n",
    "        layer2 = F.max_pool2d(layer1, kernel_size=(2, 2), stride=2)\n",
    "        layer2_d = self.dropout1(layer2)\n",
    "        layer3 = F.relu(self.conv2(layer2_d))                         \n",
    "        layer4 = F.max_pool2d(layer3, kernel_size=(2, 2), stride=2) \n",
    "        layer4_d = self.dropout1(layer4)\n",
    "        layer5 = F.relu(self.conv3(layer4_d))  \n",
    "        layer5_d = self.dropout3(layer5)                                \n",
    "        layer6 = F.relu(self.fc1(torch.flatten(layer5_d,1)))\n",
    "        layer8 = F.relu(self.fc2(layer6))\n",
    "        layer9 = self.dropout4(layer8)        \n",
    "        layer7 = self.fc3(layer9)                                   \n",
    "        return layer7\n"
   ]
  },
  {
   "cell_type": "code",
   "execution_count": 157,
   "metadata": {},
   "outputs": [
    {
     "name": "stdout",
     "output_type": "stream",
     "text": [
      "cpu\n",
      "epoch : 1/15, loss = 438.749797, train_acc = 5.394204099850161, test_acc = 5.712828159332275%\n",
      "epoch : 2/15, loss = 428.823455, train_acc = 5.684317913730991, test_acc = 5.700076580047607%\n",
      "epoch : 3/15, loss = 293.580759, train_acc = 27.956132240890106, test_acc = 45.562355041503906%\n",
      "epoch : 4/15, loss = 148.821090, train_acc = 60.42656294832148, test_acc = 71.60163116455078%\n",
      "epoch : 5/15, loss = 74.612230, train_acc = 79.95026620333472, test_acc = 83.20581817626953%\n",
      "epoch : 6/15, loss = 47.732511, train_acc = 87.18398316702266, test_acc = 88.95690155029297%\n",
      "epoch : 7/15, loss = 32.608134, train_acc = 91.81623999744954, test_acc = 92.4891586303711%\n",
      "epoch : 8/15, loss = 24.253028, train_acc = 93.82153218350496, test_acc = 93.03749084472656%\n",
      "epoch : 9/15, loss = 19.746835, train_acc = 94.81302005292186, test_acc = 94.5804672241211%\n",
      "epoch : 10/15, loss = 15.947536, train_acc = 95.82044824178277, test_acc = 94.19790649414062%\n",
      "epoch : 11/15, loss = 12.692127, train_acc = 96.78643160008927, test_acc = 95.7918930053711%\n",
      "epoch : 12/15, loss = 11.073817, train_acc = 97.0988618611917, test_acc = 95.68987274169922%\n",
      "epoch : 13/15, loss = 9.310297, train_acc = 97.45273695284854, test_acc = 94.12139892578125%\n",
      "epoch : 14/15, loss = 9.013548, train_acc = 97.60576401951096, test_acc = 95.8428955078125%\n",
      "epoch : 15/15, loss = 7.544851, train_acc = 98.0616571556094, test_acc = 96.40397644042969%\n"
     ]
    }
   ],
   "source": [
    "lenet = LeNet5(0.8)\n",
    "h = train_loop(\n",
    "    train_loader=trainLoader, \n",
    "    model=lenet, \n",
    "    loss_map=nn.CrossEntropyLoss(),\n",
    "    lr=0.003,\n",
    "    epochs=15)"
   ]
  },
  {
   "cell_type": "code",
   "execution_count": 158,
   "metadata": {},
   "outputs": [
    {
     "data": {
      "image/png": "[encoded data removed]",
      "text/plain": [
       "<Figure size 432x288 with 1 Axes>"
      ]
     },
     "metadata": {
      "needs_background": "light"
     },
     "output_type": "display_data"
    },
    {
     "data": {
      "image/png": "[encoded data removed]",
      "text/plain": [
       "<Figure size 432x288 with 1 Axes>"
      ]
     },
     "metadata": {
      "needs_background": "light"
     },
     "output_type": "display_data"
    }
   ],
   "source": [
    "import math\n",
    "def show_loss(history) :\n",
    "    fig, ax = plt.subplots()\n",
    "    ax.plot([h['epoch'] for h in history], [h['loss'] for h in history], label='loss')\n",
    "    plt.legend()\n",
    "    plt.show()\n",
    "def show_learning(history):\n",
    "    fig, ax = plt.subplots()\n",
    "    ax.plot([h['epoch'] for h in history], [h['train_acc'] for h in history], label='train accuracy')\n",
    "    ax.plot([h['epoch'] for h in history], [h['test_acc'] for h in history], label='validation accuracy')\n",
    "    plt.legend()\n",
    "    plt.show()\n",
    "show_loss(h)\n",
    "show_learning(h)"
   ]
  },
  {
   "cell_type": "code",
   "execution_count": 159,
   "metadata": {},
   "outputs": [],
   "source": [
    "######### FINAL TEST #########\n",
    "df = pd.read_csv('panneaux_route/Test.csv', sep=',')\n",
    "trans = transforms.Compose([transforms.Resize((32,32)), transforms.ToTensor()])\n",
    "labels = df['ClassId'].tolist()\n",
    "images = df['Path'].tolist()\n",
    "img_lst = []\n",
    "\n",
    "for img in images :\n",
    "    img = \"panneaux_route/\" + img\n",
    "    img_lst.append(trans(Image.open(img)))"
   ]
  },
  {
   "cell_type": "code",
   "execution_count": 160,
   "metadata": {},
   "outputs": [],
   "source": [
    "class MyDataSet(Dataset):\n",
    "    def __init__(self, inputs, labels):\n",
    "        self.inputs = inputs\n",
    "        self.labels = labels\n",
    "    def __len__(self):\n",
    "        return len(self.inputs)\n",
    "    def __getitem__(self, index):\n",
    "        return self.inputs[index], self.labels[index]"
   ]
  },
  {
   "cell_type": "code",
   "execution_count": 161,
   "metadata": {},
   "outputs": [
    {
     "name": "stdout",
     "output_type": "stream",
     "text": [
      "Model after learning 2 validate -> accuracy = 5.764053821563721%\n"
     ]
    }
   ],
   "source": [
    "test_dataset = MyDataSet(img_lst, labels)\n",
    "test_dataloader = DataLoader(test_dataset, batch_size=256)\n",
    "print(f\"Model after learning 2 validate -> accuracy = {validate(test_dataloader, lenet)}%\")"
   ]
  },
  {
   "cell_type": "code",
   "execution_count": 162,
   "metadata": {},
   "outputs": [
    {
     "name": "stdout",
     "output_type": "stream",
     "text": [
      "['0', '1', '10', '11', '12', '13', '14', '15', '16', '17', '18', '19', '2', '20', '21', '22', '23', '24', '25', '26', '27', '28', '29', '3', '30', '31', '32', '33', '34', '35', '36', '37', '38', '39', '4', '40', '41', '42', '5', '6', '7', '8', '9']\n",
      "16\n",
      "tensor([16,  1, 38, 33, 11, 38, 18, 12, 25, 35, 12,  7, 23,  7,  4,  9, 21, 20,\n",
      "        27, 38,  4, 33,  9,  3,  1, 11, 13, 10,  9, 11,  5, 17, 34, 23,  2, 17,\n",
      "         3, 12, 16,  8,  7, 30, 18, 12, 24, 25,  3, 10, 18,  8, 25, 13, 15,  9,\n",
      "        13, 35,  5, 26,  9, 16, 38, 10,  4,  9, 15,  9, 26,  2,  5, 28, 11, 25,\n",
      "        30, 34,  5, 12,  1, 10, 25, 25, 21, 33, 25,  7, 10, 35,  3,  7, 22, 13,\n",
      "         3,  1,  2, 14, 12, 32,  3, 38,  9, 33,  1, 10,  5, 11, 33,  4, 35, 25,\n",
      "        33,  4,  1, 14, 16, 10, 30,  3, 27, 29,  1, 17, 13,  7,  1,  8,  2, 10,\n",
      "        10, 30,  1,  6, 36,  3, 14, 13, 11, 10, 18, 40,  2, 38, 41,  4,  6, 18,\n",
      "        17, 25,  2, 41, 11, 21,  7, 24, 11, 25, 17,  3,  6,  9,  7,  4, 13, 16,\n",
      "         4, 25, 18,  9, 13, 14, 29, 17, 13, 38, 26, 25, 33,  1,  3, 40, 13,  2,\n",
      "         8,  4, 36, 25, 20, 25, 18,  1, 10,  8, 10, 29, 12, 38, 31,  2,  8, 38,\n",
      "        18, 28, 17,  9,  4,  1, 17,  9,  2, 31, 13, 15, 15, 38, 25,  5, 25, 13,\n",
      "        10,  5,  4, 10,  2,  4,  5,  1, 14, 12, 12,  5,  8, 36, 25, 13, 33, 18,\n",
      "        33, 19, 12, 30,  4, 18, 12, 13, 20,  0, 10, 40,  5,  8, 12, 38, 20, 14,\n",
      "         0, 36, 34, 28])\n"
     ]
    },
    {
     "data": {
      "image/png": "[encoded data removed]",
      "text/plain": [
       "<Figure size 432x288 with 1 Axes>"
      ]
     },
     "metadata": {
      "needs_background": "light"
     },
     "output_type": "display_data"
    }
   ],
   "source": [
    "count = 0\n",
    "for i, (images, labels) in enumerate(test_dataloader):\n",
    "    if count > 0 : break\n",
    "    for img in images : \n",
    "        plt.imshow(img.permute(1,2,0))\n",
    "        break\n",
    "    predictions = lenet(images.view(-1, 3, 32, 32)).argmax(1)\n",
    "\n",
    "    print(trainingset.classes)\n",
    "    print(trainingset.classes[8])\n",
    "    print(labels)\n",
    "    count+=1\n"
   ]
  },
  {
   "cell_type": "code",
   "execution_count": 163,
   "metadata": {},
   "outputs": [],
   "source": [
    "def validate2(data_loader, model):\n",
    "    nb_errors = 0\n",
    "    nb_tests = 0\n",
    "    for i, (images, labels) in enumerate(data_loader):\n",
    "        output = model(images.view(-1, 3, 32, 32)).argmax(1)\n",
    "        predictions = []\n",
    "        for prediction in output.tolist() :\n",
    "            predictions.append(trainingset.classes[prediction])\n",
    "\n",
    "        for i in range(len(predictions)) :\n",
    "            if int(predictions[i]) != int(labels[i]) :\n",
    "                nb_errors += 1\n",
    "        nb_tests += len(images)\n",
    "    \n",
    "    return (100*(nb_tests-nb_errors)) / nb_tests"
   ]
  },
  {
   "cell_type": "code",
   "execution_count": 164,
   "metadata": {},
   "outputs": [
    {
     "name": "stdout",
     "output_type": "stream",
     "text": [
      "89.2319873317498\n"
     ]
    }
   ],
   "source": [
    "print(validate2(test_dataloader, lenet))"
   ]
  },
  {
   "cell_type": "code",
   "execution_count": 97,
   "metadata": {},
   "outputs": [],
   "source": [
    "def train_loop2(\n",
    "    train_loader, \n",
    "    validation_loader,  # for monitoring overfitting\n",
    "    model, \n",
    "    loss_map, \n",
    "    validation_map,     # for monitoring overfitting\n",
    "    lr=1e-3, \n",
    "    epochs=20,\n",
    "    weight_decay=0.0):  # a regularisation parameter, discussed later\n",
    "    # use gpu if available    \n",
    "    # create optimizer\n",
    "    optimizer = Adam(model.parameters(), lr=lr, weight_decay=weight_decay)    # weight_decay, discussed later\n",
    "\n",
    "    # Train model    \n",
    "    history = [] # to monitor learning: list of  {epoch: int, loss: float, train_acc:float, val_acc:float}\n",
    "    for epoch in range(epochs):\n",
    "        loss_epoch = 0.\n",
    "        train_acc = 0.\n",
    "        val_acc = 0.\n",
    "        model.train()   # for dropout and batch normalisation, discussed later\n",
    "        for images, labels in train_loader:\n",
    "            # Transfers data to GPU\n",
    "            # images, labels = images.to(device), labels.to(device)\n",
    "            # Primal computation\n",
    "            output = model(images)            \n",
    "            loss = loss_map(output, labels)            \n",
    "            # Gradient computation\n",
    "            model.zero_grad()\n",
    "            loss.backward()\n",
    "            # perform parameter update based on current gradients\n",
    "            optimizer.step()\n",
    "            # compute the epoch training loss\n",
    "            loss_epoch += loss.item()\n",
    "            train_acc += validate_soft(output, labels)\n",
    "        # compute validation accuracy\n",
    "        model.eval()    # for dropout and batch normalisation, discussed later\n",
    "        with torch.no_grad():\n",
    "            for images, labels in validation_loader:\n",
    "                # Transfers data to GPU\n",
    "                # images, labels = images.to(device), labels.to(device)\n",
    "                val_acc += validate_soft(model(images), labels)\n",
    "            train_acc = 100*train_acc/len(train_loader.dataset)\n",
    "            val_acc = 100*val_acc/len(validation_loader.dataset)\n",
    "        history.append({\"epoch\" : epoch, \"loss\" : loss_epoch, \"train_acc\" : train_acc, \"val_acc\" : val_acc})\n",
    "        if epoch % 10 == 9 or epoch == 0:\n",
    "            print(f\"epoch : {epoch + 1}/{epochs}, loss = {loss_epoch:.6f}, train_acc = {train_acc:.2f}, val_acc = {val_acc:.2f}\")\n",
    "    return history\n",
    "\n",
    "\n",
    "def show_history2(history):\n",
    "    figure, axis = plt.subplots(1, 2)\n",
    "    axis[0].plot([d[\"epoch\"] for d in history], [d[\"loss\"] for d in history])\n",
    "    axis[0].set_title(\"Loss per epoch\")\n",
    "\n",
    "    axis[1].plot([d[\"epoch\"] for d in history], [d[\"train_acc\"] for d in history], label=\"train\")\n",
    "    axis[1].plot([d[\"epoch\"] for d in history], [d[\"val_acc\"] for d in history], label=\"validation\")\n",
    "    axis[1].set_title(\"Accuracy per epoch\")\n",
    "\n",
    "    plt.legend()"
   ]
  },
  {
   "cell_type": "code",
   "execution_count": 98,
   "metadata": {},
   "outputs": [
    {
     "name": "stdout",
     "output_type": "stream",
     "text": [
      "Net3, full data-set, weight-decay and dropout\n",
      "epoch : 1/100, loss = 422.933179, train_acc = 6.98, val_acc = 14.46\n",
      "epoch : 10/100, loss = 31.164543, train_acc = 92.05, val_acc = 97.31\n"
     ]
    },
    {
     "ename": "KeyboardInterrupt",
     "evalue": "",
     "output_type": "error",
     "traceback": [
      "\u001b[0;31m---------------------------------------------------------------------------\u001b[0m",
      "\u001b[0;31mKeyboardInterrupt\u001b[0m                         Traceback (most recent call last)",
      "\u001b[0;32m/var/folders/gf/1j2_3bhx791f8973l5_cf1bh0000gp/T/ipykernel_64864/493881585.py\u001b[0m in \u001b[0;36m<module>\u001b[0;34m\u001b[0m\n\u001b[1;32m     35\u001b[0m \u001b[0;31m# in dropout, crucial learning/validation uses resp.\u001b[0m\u001b[0;34m\u001b[0m\u001b[0;34m\u001b[0m\u001b[0m\n\u001b[1;32m     36\u001b[0m \u001b[0;31m# into model.train() and model.eval()\u001b[0m\u001b[0;34m\u001b[0m\u001b[0;34m\u001b[0m\u001b[0m\n\u001b[0;32m---> 37\u001b[0;31m history = train_loop2(\n\u001b[0m\u001b[1;32m     38\u001b[0m     \u001b[0mtrain_loader\u001b[0m\u001b[0;34m=\u001b[0m\u001b[0mtrainLoader\u001b[0m\u001b[0;34m,\u001b[0m\u001b[0;34m\u001b[0m\u001b[0;34m\u001b[0m\u001b[0m\n\u001b[1;32m     39\u001b[0m     \u001b[0mvalidation_loader\u001b[0m\u001b[0;34m=\u001b[0m\u001b[0mvalidationLoader\u001b[0m\u001b[0;34m,\u001b[0m\u001b[0;34m\u001b[0m\u001b[0;34m\u001b[0m\u001b[0m\n",
      "\u001b[0;32m/var/folders/gf/1j2_3bhx791f8973l5_cf1bh0000gp/T/ipykernel_64864/1007684842.py\u001b[0m in \u001b[0;36mtrain_loop2\u001b[0;34m(train_loader, validation_loader, model, loss_map, validation_map, lr, epochs, weight_decay)\u001b[0m\n\u001b[1;32m     27\u001b[0m             \u001b[0;31m# Gradient computation\u001b[0m\u001b[0;34m\u001b[0m\u001b[0;34m\u001b[0m\u001b[0m\n\u001b[1;32m     28\u001b[0m             \u001b[0mmodel\u001b[0m\u001b[0;34m.\u001b[0m\u001b[0mzero_grad\u001b[0m\u001b[0;34m(\u001b[0m\u001b[0;34m)\u001b[0m\u001b[0;34m\u001b[0m\u001b[0;34m\u001b[0m\u001b[0m\n\u001b[0;32m---> 29\u001b[0;31m             \u001b[0mloss\u001b[0m\u001b[0;34m.\u001b[0m\u001b[0mbackward\u001b[0m\u001b[0;34m(\u001b[0m\u001b[0;34m)\u001b[0m\u001b[0;34m\u001b[0m\u001b[0;34m\u001b[0m\u001b[0m\n\u001b[0m\u001b[1;32m     30\u001b[0m             \u001b[0;31m# perform parameter update based on current gradients\u001b[0m\u001b[0;34m\u001b[0m\u001b[0;34m\u001b[0m\u001b[0m\n\u001b[1;32m     31\u001b[0m             \u001b[0moptimizer\u001b[0m\u001b[0;34m.\u001b[0m\u001b[0mstep\u001b[0m\u001b[0;34m(\u001b[0m\u001b[0;34m)\u001b[0m\u001b[0;34m\u001b[0m\u001b[0;34m\u001b[0m\u001b[0m\n",
      "\u001b[0;32m~/opt/anaconda3/lib/python3.9/site-packages/torch/_tensor.py\u001b[0m in \u001b[0;36mbackward\u001b[0;34m(self, gradient, retain_graph, create_graph, inputs)\u001b[0m\n\u001b[1;32m    305\u001b[0m                 \u001b[0mcreate_graph\u001b[0m\u001b[0;34m=\u001b[0m\u001b[0mcreate_graph\u001b[0m\u001b[0;34m,\u001b[0m\u001b[0;34m\u001b[0m\u001b[0;34m\u001b[0m\u001b[0m\n\u001b[1;32m    306\u001b[0m                 inputs=inputs)\n\u001b[0;32m--> 307\u001b[0;31m         \u001b[0mtorch\u001b[0m\u001b[0;34m.\u001b[0m\u001b[0mautograd\u001b[0m\u001b[0;34m.\u001b[0m\u001b[0mbackward\u001b[0m\u001b[0;34m(\u001b[0m\u001b[0mself\u001b[0m\u001b[0;34m,\u001b[0m \u001b[0mgradient\u001b[0m\u001b[0;34m,\u001b[0m \u001b[0mretain_graph\u001b[0m\u001b[0;34m,\u001b[0m \u001b[0mcreate_graph\u001b[0m\u001b[0;34m,\u001b[0m \u001b[0minputs\u001b[0m\u001b[0;34m=\u001b[0m\u001b[0minputs\u001b[0m\u001b[0;34m)\u001b[0m\u001b[0;34m\u001b[0m\u001b[0;34m\u001b[0m\u001b[0m\n\u001b[0m\u001b[1;32m    308\u001b[0m \u001b[0;34m\u001b[0m\u001b[0m\n\u001b[1;32m    309\u001b[0m     \u001b[0;32mdef\u001b[0m \u001b[0mregister_hook\u001b[0m\u001b[0;34m(\u001b[0m\u001b[0mself\u001b[0m\u001b[0;34m,\u001b[0m \u001b[0mhook\u001b[0m\u001b[0;34m)\u001b[0m\u001b[0;34m:\u001b[0m\u001b[0;34m\u001b[0m\u001b[0;34m\u001b[0m\u001b[0m\n",
      "\u001b[0;32m~/opt/anaconda3/lib/python3.9/site-packages/torch/autograd/__init__.py\u001b[0m in \u001b[0;36mbackward\u001b[0;34m(tensors, grad_tensors, retain_graph, create_graph, grad_variables, inputs)\u001b[0m\n\u001b[1;32m    152\u001b[0m         \u001b[0mretain_graph\u001b[0m \u001b[0;34m=\u001b[0m \u001b[0mcreate_graph\u001b[0m\u001b[0;34m\u001b[0m\u001b[0;34m\u001b[0m\u001b[0m\n\u001b[1;32m    153\u001b[0m \u001b[0;34m\u001b[0m\u001b[0m\n\u001b[0;32m--> 154\u001b[0;31m     Variable._execution_engine.run_backward(\n\u001b[0m\u001b[1;32m    155\u001b[0m         \u001b[0mtensors\u001b[0m\u001b[0;34m,\u001b[0m \u001b[0mgrad_tensors_\u001b[0m\u001b[0;34m,\u001b[0m \u001b[0mretain_graph\u001b[0m\u001b[0;34m,\u001b[0m \u001b[0mcreate_graph\u001b[0m\u001b[0;34m,\u001b[0m \u001b[0minputs\u001b[0m\u001b[0;34m,\u001b[0m\u001b[0;34m\u001b[0m\u001b[0;34m\u001b[0m\u001b[0m\n\u001b[1;32m    156\u001b[0m         allow_unreachable=True, accumulate_grad=True)  # allow_unreachable flag\n",
      "\u001b[0;31mKeyboardInterrupt\u001b[0m: "
     ]
    }
   ],
   "source": [
    "# 2. dropout\n",
    "class Net3(nn.Module):\n",
    "    def __init__(self,dropout_p=0.0):\n",
    "        super().__init__()\n",
    "        self.conv1 = nn.Conv2d(3, 32, kernel_size=(3, 3))    \n",
    "        self.conv2 = nn.Conv2d(32, 32, kernel_size=(3, 3))\n",
    "        self.dropout1 = nn.Dropout(p=dropout_p) # as attribute, to be activated/disactivated by model.eval()/train()\n",
    "        self.conv3 = nn.Conv2d(32, 64, kernel_size=(3, 3))    \n",
    "        self.conv4 = nn.Conv2d(64, 64, kernel_size=(3, 3)) \n",
    "        self.dropout2 = nn.Dropout(p=dropout_p) # as attribute, to be activated/disactivated by model.eval()/train()\n",
    "        self.conv5 = nn.Conv2d(64, 128, kernel_size=(3, 3))    \n",
    "        self.conv6 = nn.Conv2d(128, 128, kernel_size=(3, 3)) \n",
    "        self.dropout3 = nn.Dropout(p=dropout_p) # as attribute, to be activated/disactivated by model.eval()/train()\n",
    "        self.fc1 = nn.Linear(128, 256)\n",
    "        self.fc2 = nn.Linear(256, 43)\n",
    "\n",
    "    def forward(self, input):\n",
    "        layer1 = F.relu(self.conv1(input))                  \n",
    "        layer2 = F.relu(self.conv2(layer1))\n",
    "        layer3 = F.max_pool2d(layer2, kernel_size=2, stride=2)\n",
    "        layer3_d = self.dropout1(layer3)\n",
    "        layer4 = F.relu(self.conv3(layer3_d))                  \n",
    "        layer5 = F.relu(self.conv4(layer4))            \n",
    "        layer6 = F.max_pool2d(layer5, kernel_size=2, stride=2)\n",
    "        layer6_d = self.dropout2(layer6)\n",
    "        layer7 = F.relu(self.conv5(layer6_d))                  \n",
    "        layer8 = F.relu(self.conv6(layer7))\n",
    "        layer8_d = self.dropout3(layer8)            \n",
    "        layer9 = F.relu(self.fc1(torch.flatten(layer8_d,1)))  \n",
    "        layer10 = self.fc2(layer9)                        \n",
    "        return layer10\n",
    "\n",
    "print(\"Net3, full data-set, weight-decay and dropout\")\n",
    "net = Net3(dropout_p=0.4)\n",
    "# in dropout, crucial learning/validation uses resp. \n",
    "# into model.train() and model.eval()\n",
    "history = train_loop2(\n",
    "    train_loader=trainLoader, \n",
    "    validation_loader=validationLoader,\n",
    "    model=net, \n",
    "    loss_map=nn.CrossEntropyLoss(),\n",
    "    validation_map=validate,\n",
    "    lr=0.001,\n",
    "    epochs=100,\n",
    "    weight_decay=0.0005)\n",
    "\n",
    "show_history2(history)\n",
    "# Dropout is a powerful regularisation technique\n",
    "# we loose a loss on train_acc: from ~97% to ~81%\n",
    "# but we gain a lot in val_acc: from ~74% to ~80%"
   ]
  },
  {
   "cell_type": "code",
   "execution_count": null,
   "metadata": {},
   "outputs": [],
   "source": []
  }
 ],
 "metadata": {
  "interpreter": {
   "hash": "2c17cdae881039898e019dde816ef025ab5528b4115dbe62b08e3ff91b305481"
  },
  "kernelspec": {
   "display_name": "Python 3.9.7 ('base')",
   "language": "python",
   "name": "python3"
  },
  "language_info": {
   "codemirror_mode": {
    "name": "ipython",
    "version": 3
   },
   "file_extension": ".py",
   "mimetype": "text/x-python",
   "name": "python",
   "nbconvert_exporter": "python",
   "pygments_lexer": "ipython3",
   "version": "3.9.7"
  },
  "orig_nbformat": 4
 },
 "nbformat": 4,
 "nbformat_minor": 2
}
