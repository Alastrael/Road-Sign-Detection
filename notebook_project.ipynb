{
 "cells": [
  {
   "cell_type": "code",
   "execution_count": 1,
   "metadata": {},
   "outputs": [],
   "source": [
    "import numpy as np\n",
    "import torch as torch\n",
    "import torchvision.datasets as datasets\n",
    "import torchvision.transforms as transforms\n",
    "import matplotlib.pyplot as plt\n",
    "import pandas as pd\n",
    "from PIL import Image\n",
    "import torch.nn as nn\n",
    "from torch.autograd import Variable\n",
    "from torch.nn import Linear, ReLU, CrossEntropyLoss, Sequential, Conv2d, MaxPool2d, Module, Softmax, BatchNorm2d, Dropout\n",
    "from torch.optim import Adam, SGD\n",
    "import torch.nn.functional as F\n",
    "from torch.utils import data as data"
   ]
  },
  {
   "cell_type": "code",
   "execution_count": 2,
   "metadata": {},
   "outputs": [],
   "source": [
    "DATA_FOLDER = \"panneaux_route\"\n",
    "CLASSES = { \n",
    "    0:\"Limitation de vitesse (20km/h)\",\n",
    "    1:\"Limitation de vitesse (30km/h)\", \n",
    "    2:\"Limitation de vitesse (50km/h)\", \n",
    "    3:\"Limitation de vitesse (60km/h)\", \n",
    "    4:\"Limitation de vitesse (70km/h)\", \n",
    "    5:\"Limitation de vitesse (80km/h)\", \n",
    "    6:\"Fin de limitation de vitesse (80km/h)\", \n",
    "    7:\"Limitation de vitesse (100km/h)\", \n",
    "    8:\"Limitation de vitesse (120km/h)\", \n",
    "    9:\"Interdiction de depasser\", \n",
    "    10:\"Interdiction de depasser pour vehicules > 3.5t\", \n",
    "    11:\"Intersection ou' vous etes prioritaire\", \n",
    "    12:\"Route prioritaire\", \n",
    "    13:\"Ceder le passage\", \n",
    "    14:\"Arret a' l'intersection\", \n",
    "    15:\"Circulation interdite\", \n",
    "    16:\"Acces interdit aux vehicules > 3.5t\", \n",
    "    17:\"Sens interdit\", \n",
    "    18:\"Danger\", \n",
    "    19:\"Virage a' gauche\", \n",
    "    20:\"Virage a' droite\", \n",
    "    21:\"Succession de virages\", \n",
    "    22:\"Cassis ou dos-d'ane\", \n",
    "    23:\"Chaussee glissante\", \n",
    "    24:\"Chaussee retrecie par la droite\", \n",
    "    25:\"Travaux en cours\", \n",
    "    26:\"Annonce feux\", \n",
    "    27:\"Passage pietons\", \n",
    "    28:\"Endroit frequente' par les enfants\", \n",
    "    29:\"Debouche' de cyclistes\", \n",
    "    30:\"Neige ou glace\",\n",
    "    31:\"Passage d'animaux sauvages\", \n",
    "    32:\"Fin des interdictions precedemment signalees\", \n",
    "    33:\"Direction obligatoire a' la prochaine intersection : a' droite\", \n",
    "    34:\"Direction obligatoire a' la prochaine intersection : a' gauche\", \n",
    "    35:\"Direction obligatoire a' la prochaine intersection : tout droit\", \n",
    "    36:\"Direction obligatoire a' la prochaine intersection : tout droit ou a' droite\", \n",
    "    37:\"Direction obligatoire a' la prochaine intersection : tout droit ou a' gauche\", \n",
    "    38:\"Contournement obligatoire de l'obstacle par la droite\", \n",
    "    39:\"Contournement obligatoire de l'obstacle par la gauche\", \n",
    "    40:\"Carrefour giratoire\", \n",
    "    41:\"Fin d'interdiction de depasser\", \n",
    "    42:\"Fin d'interdiction de depasser pour vehicules > 3.5t\" \n",
    "}\n"
   ]
  },
  {
   "cell_type": "code",
   "execution_count": 3,
   "metadata": {},
   "outputs": [
    {
     "name": "stdout",
     "output_type": "stream",
     "text": [
      "(tensor([[[0.2941, 0.2902, 0.3255,  ..., 0.2627, 0.2549, 0.2588],\n",
      "         [0.3216, 0.3098, 0.3451,  ..., 0.2863, 0.2980, 0.3098],\n",
      "         [0.3098, 0.3294, 0.3569,  ..., 0.2824, 0.2902, 0.3059],\n",
      "         ...,\n",
      "         [0.4941, 0.4667, 0.4235,  ..., 0.3804, 0.3882, 0.3882],\n",
      "         [0.3529, 0.3569, 0.3020,  ..., 0.4118, 0.4196, 0.3725],\n",
      "         [0.3333, 0.3686, 0.2706,  ..., 0.3961, 0.3843, 0.3529]],\n",
      "\n",
      "        [[0.3059, 0.2980, 0.3294,  ..., 0.2902, 0.2706, 0.2627],\n",
      "         [0.3255, 0.3176, 0.3412,  ..., 0.3020, 0.3020, 0.3098],\n",
      "         [0.3098, 0.3294, 0.3490,  ..., 0.2902, 0.2941, 0.3059],\n",
      "         ...,\n",
      "         [0.5020, 0.4824, 0.4588,  ..., 0.3765, 0.3961, 0.4039],\n",
      "         [0.3686, 0.3843, 0.3412,  ..., 0.4078, 0.4353, 0.4039],\n",
      "         [0.3294, 0.3882, 0.3137,  ..., 0.4000, 0.3961, 0.3804]],\n",
      "\n",
      "        [[0.3137, 0.3059, 0.3255,  ..., 0.2863, 0.2667, 0.2588],\n",
      "         [0.3333, 0.3255, 0.3294,  ..., 0.3020, 0.2902, 0.3020],\n",
      "         [0.3176, 0.3333, 0.3490,  ..., 0.2824, 0.2784, 0.2941],\n",
      "         ...,\n",
      "         [0.5216, 0.5020, 0.4745,  ..., 0.3529, 0.3686, 0.3882],\n",
      "         [0.3843, 0.4000, 0.3569,  ..., 0.3804, 0.4000, 0.3804],\n",
      "         [0.3412, 0.4078, 0.3373,  ..., 0.3686, 0.3529, 0.3490]]]), 0)\n",
      "Intersection ou' vous etes prioritaire\n"
     ]
    },
    {
     "data": {
      "image/png": "[encoded data removed]",
      "text/plain": [
       "<Figure size 432x288 with 1 Axes>"
      ]
     },
     "metadata": {
      "needs_background": "light"
     },
     "output_type": "display_data"
    }
   ],
   "source": [
    "######### DATA SETS #########\n",
    "from torch.utils.data import Dataset, DataLoader\n",
    "\n",
    "trainingset = datasets.ImageFolder(\"panneaux_route/Train\", transform=transforms.Compose(\n",
    "    [transforms.Resize((32,32)),\n",
    "    transforms.ToTensor()]\n",
    "))\n",
    "\n",
    "print(trainingset[0])\n",
    "print(CLASSES.get(int(trainingset.classes[trainingset[5005][1]]))), plt.imshow(trainingset[5005][0].permute(1,2,0))\n",
    "\n",
    "trainSize = int(0.8 * len(trainingset))\n",
    "validationSize = len(trainingset) - trainSize\n",
    "trainDataset, validationDataset = data.random_split(trainingset, [trainSize, validationSize])\n",
    "\n",
    "trainLoader = DataLoader(trainDataset, batch_size=256, shuffle=True)\n",
    "validationLoader = DataLoader(validationDataset, batch_size=1024)"
   ]
  },
  {
   "cell_type": "code",
   "execution_count": 4,
   "metadata": {},
   "outputs": [],
   "source": [
    "######### COMBIEN DE DONNEES PAR CLASSE #########\n",
    "def check_repartition(dico, dataset) :\n",
    "    for images, label in dataset :\n",
    "        if label in dico :\n",
    "            dico[label] += 1\n",
    "        else :\n",
    "            dico[label] = 1"
   ]
  },
  {
   "cell_type": "code",
   "execution_count": 5,
   "metadata": {},
   "outputs": [],
   "source": [
    "######### VERIFIONS LA REPARTITION DES DONNEES #########\n",
    "check_init = {}\n",
    "check_repartition(check_init, trainingset)\n",
    "\n",
    "check_traindataset = {}\n",
    "check_repartition(check_traindataset, trainDataset)\n",
    "\n",
    "check_valid = {}\n",
    "check_repartition(check_valid, validationDataset)\n"
   ]
  },
  {
   "cell_type": "code",
   "execution_count": 6,
   "metadata": {},
   "outputs": [
    {
     "data": {
      "image/png": "[encoded data removed]",
      "text/plain": [
       "<Figure size 432x288 with 1 Axes>"
      ]
     },
     "metadata": {
      "needs_background": "light"
     },
     "output_type": "display_data"
    }
   ],
   "source": [
    "X = np.arange(len(check_init))\n",
    "ax = plt.subplot(111)\n",
    "ax.bar(X, check_init.values(), width=0.4, color='b', align='center')\n",
    "ax.bar(X-0.5, check_traindataset.values(), width=0.4, color='g', align='center')\n",
    "ax.bar(X-0.5, check_valid.values(), width= 0.4, color='r', align='center')\n",
    "ax.legend(('ImageFolder','TrainDataset'))\n",
    "plt.xticks(X, check_init.keys())\n",
    "plt.title(\"Repartition\", fontsize=17)\n",
    "\n",
    "plt.show()"
   ]
  },
  {
   "cell_type": "code",
   "execution_count": 12,
   "metadata": {},
   "outputs": [],
   "source": [
    "######### TRAIN LOOP #########\n",
    "def train_loop(train_loader, model, loss_map, lr=1e-3, epochs=20):\n",
    "    history = []\n",
    "    # use gpu if available\n",
    "    device = torch.device(\"cuda\" if torch.cuda.is_available() else \"cpu\")\n",
    "    print(device)\n",
    "    model.to(device)\n",
    "    # create optimizer\n",
    "    optimizer = Adam(model.parameters(), lr=lr)\n",
    "    # Train model\n",
    "    for epoch in range(epochs):\n",
    "        loss_epoch = 0.\n",
    "        for images, labels in train_loader:\n",
    "            # Transfers data to GPU\n",
    "            #images, labels = images.to(device), labels.to(device)\n",
    "            # Primal computation\n",
    "            output = model(images)            \n",
    "            loss = loss_map(output, labels)            \n",
    "            # Gradient computation\n",
    "            model.zero_grad()\n",
    "            loss.backward()\n",
    "            # perform parameter update based on current gradients\n",
    "            optimizer.step()\n",
    "            # compute the epoch training loss\n",
    "            loss_epoch += loss.item()\n",
    "        # display the epoch training loss\n",
    "        test_acc = validate(validationLoader, model)\n",
    "        history.append(\n",
    "            {'epoch' : epoch + 1,\n",
    "             'loss' : loss_epoch,\n",
    "             'test_acc' : test_acc})\n",
    "        print(f\"epoch : {epoch + 1}/{epochs}, loss = {loss_epoch:.6f}, test_acc = {test_acc}%\")\n",
    "    return history"
   ]
  },
  {
   "cell_type": "code",
   "execution_count": 13,
   "metadata": {},
   "outputs": [],
   "source": [
    "######### VALIDATION #########\n",
    "def validate(data_loader, model):\n",
    "    nb_errors = 0\n",
    "    nb_tests = 0\n",
    "    for i, (images, labels) in enumerate(data_loader):\n",
    "        output = model(images)\n",
    "        nb_errors += ((output.argmax(1)) != labels).sum()\n",
    "        nb_tests += len(images)\n",
    "    \n",
    "    return (100*(nb_tests-nb_errors)) / nb_tests\n",
    "\n",
    "def validate2(data_loader, model):\n",
    "    nb_errors = 0\n",
    "    nb_tests = 0\n",
    "    for i, (images, labels) in enumerate(data_loader):\n",
    "        output = model(images.view(-1, 3, 32, 32)).argmax(1)\n",
    "        predictions = []\n",
    "        for prediction in output.tolist() :\n",
    "            predictions.append(trainingset.classes[prediction])\n",
    "\n",
    "        for i in range(len(predictions)) :\n",
    "            if int(predictions[i]) != int(labels[i]) :\n",
    "                nb_errors += 1\n",
    "        nb_tests += len(images)\n",
    "    \n",
    "    return (100*(nb_tests-nb_errors)) / nb_tests"
   ]
  },
  {
   "cell_type": "code",
   "execution_count": 14,
   "metadata": {},
   "outputs": [],
   "source": [
    "######### MODEL(S) #########\n",
    "class LeNet5(nn.Module):\n",
    "    def __init__(self):\n",
    "        super(LeNet5, self).__init__()\n",
    "        self.conv1 = nn.Conv2d(3, 6, kernel_size=(5, 5))\n",
    "        self.conv2 = nn.Conv2d(6, 16, kernel_size=(5, 5))\n",
    "        self.conv3 = nn.Conv2d(16, 120, kernel_size=(5, 5))\n",
    "        self.fc1 = nn.Linear(120, 84)\n",
    "        self.fc2 = nn.Linear(84, 43)\n",
    "\n",
    "    def forward(self, input):\n",
    "        layer1 = F.relu(self.conv1(input))                          \n",
    "        layer2 = F.max_pool2d(layer1, kernel_size=(2, 2), stride=2) \n",
    "        layer3 = F.relu(self.conv2(layer2))                         \n",
    "        layer4 = F.max_pool2d(layer3, kernel_size=(2, 2), stride=2) \n",
    "        layer5 = F.relu(self.conv3(layer4))                         \n",
    "        layer6 = F.relu(self.fc1(torch.flatten(layer5,1)))          \n",
    "        layer7 = self.fc2(layer6)                                   \n",
    "        return layer7"
   ]
  },
  {
   "cell_type": "code",
   "execution_count": 15,
   "metadata": {},
   "outputs": [],
   "source": [
    "lenet = LeNet5()"
   ]
  },
  {
   "cell_type": "code",
   "execution_count": 16,
   "metadata": {},
   "outputs": [
    {
     "name": "stdout",
     "output_type": "stream",
     "text": [
      "Lenet before learning, accuracy = 3.8638102524866107%\n",
      "cpu\n",
      "epoch : 1/15, loss = 334.813755, test_acc = 54.934967041015625%\n",
      "epoch : 2/15, loss = 114.540517, test_acc = 81.2165298461914%\n",
      "epoch : 3/15, loss = 54.405890, test_acc = 86.68707275390625%\n",
      "epoch : 4/15, loss = 34.040040, test_acc = 92.69319152832031%\n",
      "epoch : 5/15, loss = 23.522547, test_acc = 94.61872100830078%\n",
      "epoch : 6/15, loss = 16.947623, test_acc = 94.9120101928711%\n",
      "epoch : 7/15, loss = 12.928339, test_acc = 96.45498657226562%\n",
      "epoch : 8/15, loss = 10.081892, test_acc = 96.8885498046875%\n",
      "epoch : 9/15, loss = 8.531849, test_acc = 96.59525299072266%\n",
      "epoch : 10/15, loss = 7.727352, test_acc = 96.92680358886719%\n",
      "epoch : 11/15, loss = 5.504425, test_acc = 97.84494018554688%\n",
      "epoch : 12/15, loss = 4.769533, test_acc = 97.66641235351562%\n",
      "epoch : 13/15, loss = 5.178285, test_acc = 97.52613830566406%\n",
      "epoch : 14/15, loss = 4.135789, test_acc = 97.65365600585938%\n",
      "epoch : 15/15, loss = 4.713309, test_acc = 97.89594268798828%\n",
      "Lenet after learning, accuracy = 5.763835756184647%\n"
     ]
    }
   ],
   "source": [
    "print(f\"Lenet before learning, accuracy = {validate(validationLoader, lenet)}%\")\n",
    "h = train_loop(\n",
    "    train_loader=trainLoader, \n",
    "    model=lenet, \n",
    "    loss_map=nn.CrossEntropyLoss(),\n",
    "    lr=0.003,\n",
    "    epochs=15)\n",
    "#print(h)\n",
    "print(f\"Lenet after learning, accuracy = {validate(validationLoader, lenet)}%\")"
   ]
  },
  {
   "cell_type": "code",
   "execution_count": 17,
   "metadata": {},
   "outputs": [
    {
     "data": {
      "image/png": "[encoded data removed]",
      "text/plain": [
       "<Figure size 432x288 with 1 Axes>"
      ]
     },
     "metadata": {
      "needs_background": "light"
     },
     "output_type": "display_data"
    }
   ],
   "source": [
    "def show_learning(history):\n",
    "    fig, ax = plt.subplots()\n",
    "    ax.plot([h['epoch'] for h in history], [h['loss'] for h in history], label='loss')\n",
    "    ax.plot([h['epoch'] for h in history], [h['test_acc'] for h in history], label='test accuracy')\n",
    "    plt.legend()\n",
    "    plt.show()\n",
    "show_learning(h)"
   ]
  },
  {
   "cell_type": "code",
   "execution_count": 18,
   "metadata": {},
   "outputs": [],
   "source": [
    "######### FINAL TEST #########\n",
    "df = pd.read_csv('panneaux_route/Test.csv', sep=',')\n",
    "trans = transforms.Compose([transforms.Resize((32,32)), transforms.ToTensor()])\n",
    "labels = df['ClassId'].tolist()\n",
    "images = df['Path'].tolist()\n",
    "img_lst = []\n",
    "\n",
    "for img in images :\n",
    "    img = \"panneaux_route/\" + img\n",
    "    img_lst.append(trans(Image.open(img)))"
   ]
  },
  {
   "cell_type": "code",
   "execution_count": 19,
   "metadata": {},
   "outputs": [],
   "source": [
    "class MyDataSet(Dataset):\n",
    "    def __init__(self, inputs, labels):\n",
    "        self.inputs = inputs\n",
    "        self.labels = labels\n",
    "    def __len__(self):\n",
    "        return len(self.inputs)\n",
    "    def __getitem__(self, index):\n",
    "        return self.inputs[index], self.labels[index]"
   ]
  },
  {
   "cell_type": "code",
   "execution_count": 20,
   "metadata": {},
   "outputs": [
    {
     "name": "stdout",
     "output_type": "stream",
     "text": [
      "Lenet after learning, accuracy = 5.882818698883057%\n"
     ]
    }
   ],
   "source": [
    "test_dataset = MyDataSet(img_lst, labels)\n",
    "test_dataloader = DataLoader(test_dataset, batch_size=256)\n",
    "print(f\"Lenet after learning, accuracy = {validate(test_dataloader, lenet)}%\")"
   ]
  },
  {
   "cell_type": "code",
   "execution_count": 21,
   "metadata": {},
   "outputs": [
    {
     "name": "stdout",
     "output_type": "stream",
     "text": [
      "16\n",
      "tensor([16,  1, 38, 33, 11, 38, 18, 12, 25, 35, 12,  7, 23,  7,  4,  9, 21, 20,\n",
      "        27, 38,  4, 33,  9,  3,  1, 11, 13, 10,  9, 11,  5, 17, 34, 23,  2, 17,\n",
      "         3, 12, 16,  8,  7, 30, 18, 12, 24, 25,  3, 10, 18,  8, 25, 13, 15,  9,\n",
      "        13, 35,  5, 26,  9, 16, 38, 10,  4,  9, 15,  9, 26,  2,  5, 28, 11, 25,\n",
      "        30, 34,  5, 12,  1, 10, 25, 25, 21, 33, 25,  7, 10, 35,  3,  7, 22, 13,\n",
      "         3,  1,  2, 14, 12, 32,  3, 38,  9, 33,  1, 10,  5, 11, 33,  4, 35, 25,\n",
      "        33,  4,  1, 14, 16, 10, 30,  3, 27, 29,  1, 17, 13,  7,  1,  8,  2, 10,\n",
      "        10, 30,  1,  6, 36,  3, 14, 13, 11, 10, 18, 40,  2, 38, 41,  4,  6, 18,\n",
      "        17, 25,  2, 41, 11, 21,  7, 24, 11, 25, 17,  3,  6,  9,  7,  4, 13, 16,\n",
      "         4, 25, 18,  9, 13, 14, 29, 17, 13, 38, 26, 25, 33,  1,  3, 40, 13,  2,\n",
      "         8,  4, 36, 25, 20, 25, 18,  1, 10,  8, 10, 29, 12, 38, 31,  2,  8, 38,\n",
      "        18, 28, 17,  9,  4,  1, 17,  9,  2, 31, 13, 15, 15, 38, 25,  5, 25, 13,\n",
      "        10,  5,  4, 10,  2,  4,  5,  1, 14, 12, 12,  5,  8, 36, 25, 13, 33, 18,\n",
      "        33, 19, 12, 30,  4, 18, 12, 13, 20,  0, 10, 40,  5,  8, 12, 38, 20, 14,\n",
      "         0, 36, 34, 28])\n"
     ]
    },
    {
     "data": {
      "image/png": "[encoded data removed]",
      "text/plain": [
       "<Figure size 432x288 with 1 Axes>"
      ]
     },
     "metadata": {
      "needs_background": "light"
     },
     "output_type": "display_data"
    }
   ],
   "source": [
    "count = 0\n",
    "for i, (images, labels) in enumerate(test_dataloader):\n",
    "    if count > 0 : break\n",
    "    for img in images : \n",
    "        plt.imshow(img.permute(1,2,0))\n",
    "        break\n",
    "    predictions = lenet(images.view(-1, 3, 32, 32)).argmax(1)\n",
    "\n",
    "    print(trainingset.classes[8])\n",
    "    print(labels)\n",
    "    count+=1\n"
   ]
  },
  {
   "cell_type": "code",
   "execution_count": 22,
   "metadata": {},
   "outputs": [],
   "source": [
    "def validate2(data_loader, model):\n",
    "    nb_errors = 0\n",
    "    nb_tests = 0\n",
    "    for i, (images, labels) in enumerate(data_loader):\n",
    "        output = model(images.view(-1, 3, 32, 32)).argmax(1)\n",
    "        predictions = []\n",
    "        for prediction in output.tolist() :\n",
    "            predictions.append(trainingset.classes[prediction])\n",
    "\n",
    "        for i in range(len(predictions)) :\n",
    "            if int(predictions[i]) != int(labels[i]) :\n",
    "                nb_errors += 1\n",
    "        nb_tests += len(images)\n",
    "    \n",
    "    return (100*(nb_tests-nb_errors)) / nb_tests"
   ]
  },
  {
   "cell_type": "code",
   "execution_count": 23,
   "metadata": {},
   "outputs": [
    {
     "name": "stdout",
     "output_type": "stream",
     "text": [
      "90.13460015835312\n"
     ]
    }
   ],
   "source": [
    "print(validate2(test_dataloader, lenet))"
   ]
  },
  {
   "cell_type": "code",
   "execution_count": null,
   "metadata": {},
   "outputs": [],
   "source": []
  }
 ],
 "metadata": {
  "interpreter": {
   "hash": "2c17cdae881039898e019dde816ef025ab5528b4115dbe62b08e3ff91b305481"
  },
  "kernelspec": {
   "display_name": "Python 3.9.7 ('base')",
   "language": "python",
   "name": "python3"
  },
  "language_info": {
   "codemirror_mode": {
    "name": "ipython",
    "version": 3
   },
   "file_extension": ".py",
   "mimetype": "text/x-python",
   "name": "python",
   "nbconvert_exporter": "python",
   "pygments_lexer": "ipython3",
   "version": "3.9.7"
  },
  "orig_nbformat": 4
 },
 "nbformat": 4,
 "nbformat_minor": 2
}
