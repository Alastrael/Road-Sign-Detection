{
 "cells": [
  {
   "cell_type": "markdown",
   "metadata": {},
   "source": [
    "# Projet de reconnaissance de panneaux routiers"
   ]
  },
  {
   "cell_type": "markdown",
   "metadata": {},
   "source": [
    "## Importation des librairies"
   ]
  },
  {
   "cell_type": "markdown",
   "metadata": {},
   "source": [
    "Voici les librairies que nous utilisons dans le projet."
   ]
  },
  {
   "cell_type": "code",
   "execution_count": 1,
   "metadata": {},
   "outputs": [],
   "source": [
    "# LIBRAIRIES DE TORCH\n",
    "import torch as torch\n",
    "from torch.utils import data as data\n",
    "import torchvision.datasets as datasets\n",
    "import torchvision.transforms as transforms\n",
    "from torch.utils.data import Dataset, DataLoader\n",
    "import torch.nn as nn\n",
    "from torch.optim import Adam, SGD\n",
    "import torch.nn.functional as F\n",
    "\n",
    "# LIBRAIRIES DE TRAITEMENT DE DONNEES\n",
    "import numpy as np\n",
    "import pandas as pd\n",
    "from functools import reduce \n",
    "\n",
    "# LIBRAIRIE DE TRAITEMENT D'IMAGES\n",
    "from PIL import Image\n",
    "\n",
    "# LIBRAIRIE DE PLOT\n",
    "import matplotlib.pyplot as plt\n",
    "import plotly.graph_objects as go"
   ]
  },
  {
   "cell_type": "markdown",
   "metadata": {},
   "source": [
    "## Importation des données"
   ]
  },
  {
   "cell_type": "markdown",
   "metadata": {},
   "source": [
    "Pour commencer, nous aurons besoin d'un dictionnaire avec la signification de chaque label"
   ]
  },
  {
   "cell_type": "code",
   "execution_count": 2,
   "metadata": {},
   "outputs": [],
   "source": [
    "CLASSES = { \n",
    "    0:\"Limitation de vitesse (20km/h)\",\n",
    "    1:\"Limitation de vitesse (30km/h)\", \n",
    "    2:\"Limitation de vitesse (50km/h)\", \n",
    "    3:\"Limitation de vitesse (60km/h)\", \n",
    "    4:\"Limitation de vitesse (70km/h)\", \n",
    "    5:\"Limitation de vitesse (80km/h)\", \n",
    "    6:\"Fin de limitation de vitesse (80km/h)\", \n",
    "    7:\"Limitation de vitesse (100km/h)\", \n",
    "    8:\"Limitation de vitesse (120km/h)\", \n",
    "    9:\"Interdiction de depasser\", \n",
    "    10:\"Interdiction de depasser pour vehicules > 3.5t\", \n",
    "    11:\"Intersection ou' vous etes prioritaire\", \n",
    "    12:\"Route prioritaire\", \n",
    "    13:\"Ceder le passage\", \n",
    "    14:\"Arret a' l'intersection\", \n",
    "    15:\"Circulation interdite\", \n",
    "    16:\"Acces interdit aux vehicules > 3.5t\", \n",
    "    17:\"Sens interdit\", \n",
    "    18:\"Danger\", \n",
    "    19:\"Virage a' gauche\", \n",
    "    20:\"Virage a' droite\", \n",
    "    21:\"Succession de virages\", \n",
    "    22:\"Cassis ou dos-d'ane\", \n",
    "    23:\"Chaussee glissante\", \n",
    "    24:\"Chaussee retrecie par la droite\", \n",
    "    25:\"Travaux en cours\", \n",
    "    26:\"Annonce feux\", \n",
    "    27:\"Passage pietons\", \n",
    "    28:\"Endroit frequente' par les enfants\", \n",
    "    29:\"Debouche' de cyclistes\", \n",
    "    30:\"Neige ou glace\",\n",
    "    31:\"Passage d'animaux sauvages\", \n",
    "    32:\"Fin des interdictions precedemment signalees\", \n",
    "    33:\"Direction obligatoire a' la prochaine intersection : a' droite\", \n",
    "    34:\"Direction obligatoire a' la prochaine intersection : a' gauche\", \n",
    "    35:\"Direction obligatoire a' la prochaine intersection : tout droit\", \n",
    "    36:\"Direction obligatoire a' la prochaine intersection : tout droit ou a' droite\", \n",
    "    37:\"Direction obligatoire a' la prochaine intersection : tout droit ou a' gauche\", \n",
    "    38:\"Contournement obligatoire de l'obstacle par la droite\", \n",
    "    39:\"Contournement obligatoire de l'obstacle par la gauche\", \n",
    "    40:\"Carrefour giratoire\", \n",
    "    41:\"Fin d'interdiction de depasser\", \n",
    "    42:\"Fin d'interdiction de depasser pour vehicules > 3.5t\" \n",
    "}\n"
   ]
  },
  {
   "cell_type": "markdown",
   "metadata": {},
   "source": [
    "Ensuite nous pouvons commencer l'importation des données"
   ]
  },
  {
   "cell_type": "markdown",
   "metadata": {},
   "source": [
    "### Le training dataset"
   ]
  },
  {
   "cell_type": "code",
   "execution_count": 3,
   "metadata": {},
   "outputs": [],
   "source": [
    "# on commence par recolter les donnees et transformer les images en tensors\n",
    "raw_data = datasets.ImageFolder(\"panneaux_route/Train\", transform=transforms.Compose(\n",
    "    [transforms.Resize((32,32)),\n",
    "    transforms.ToTensor()]\n",
    "))\n",
    "\n",
    "# construisons le dataloader\n",
    "train_loader = DataLoader(raw_data, batch_size=1024, shuffle=True)"
   ]
  },
  {
   "cell_type": "markdown",
   "metadata": {},
   "source": [
    "### Les données de Test"
   ]
  },
  {
   "cell_type": "markdown",
   "metadata": {},
   "source": [
    "Puisque les données de Test ne sont pas stockées comme les données du training, il faut aller les chercher dans le csv. Pour se faire, nous utilisons la librairie pandas. La librairie nous permet d'isoler les informations des classes et du chemin des différentes images."
   ]
  },
  {
   "cell_type": "code",
   "execution_count": 4,
   "metadata": {},
   "outputs": [],
   "source": [
    "df = pd.read_csv('panneaux_route/Test.csv', sep=',')\n",
    "transformation = transforms.Compose([transforms.Resize((32,32)), transforms.ToTensor()])\n",
    "\n",
    "labels = list(df['ClassId'])\n",
    "images = list(df['Path'])\n",
    "img_lst = []\n",
    "\n",
    "for img in images :\n",
    "    img = \"panneaux_route/\" + img\n",
    "    img_lst.append(transformation(Image.open(img)))"
   ]
  },
  {
   "cell_type": "markdown",
   "metadata": {},
   "source": [
    "Avec ces données, il va falloir les transférer dans un dataset personnalisé."
   ]
  },
  {
   "cell_type": "code",
   "execution_count": 5,
   "metadata": {},
   "outputs": [],
   "source": [
    "class MyDataSet(Dataset):\n",
    "    def __init__(self, inputs, labels):\n",
    "        self.inputs = inputs\n",
    "        self.labels = labels\n",
    "    def __len__(self):\n",
    "        return len(self.inputs)\n",
    "    def __getitem__(self, index):\n",
    "        return self.inputs[index], self.labels[index]"
   ]
  },
  {
   "cell_type": "markdown",
   "metadata": {},
   "source": [
    "Et pour finir nous devons aussi faire notre dataloader du test"
   ]
  },
  {
   "cell_type": "code",
   "execution_count": 6,
   "metadata": {},
   "outputs": [],
   "source": [
    "# le dataset\n",
    "test_dataset = MyDataSet(img_lst, labels)\n",
    "\n",
    "# le dataloader\n",
    "test_dataloader = DataLoader(test_dataset, batch_size=256)"
   ]
  },
  {
   "cell_type": "markdown",
   "metadata": {},
   "source": [
    "## Explorons les données"
   ]
  },
  {
   "cell_type": "markdown",
   "metadata": {},
   "source": [
    "Explorons un peu les données pour savoir ce que l'on manipule"
   ]
  },
  {
   "cell_type": "code",
   "execution_count": 7,
   "metadata": {},
   "outputs": [
    {
     "name": "stdout",
     "output_type": "stream",
     "text": [
      "['0', '1', '10', '11', '12', '13', '14', '15', '16', '17', '18', '19', '2', '20', '21', '22', '23', '24', '25', '26', '27', '28', '29', '3', '30', '31', '32', '33', '34', '35', '36', '37', '38', '39', '4', '40', '41', '42', '5', '6', '7', '8', '9']\n"
     ]
    }
   ],
   "source": [
    "print(raw_data.classes)"
   ]
  },
  {
   "cell_type": "markdown",
   "metadata": {},
   "source": [
    "Comme nous pouvons le voir au-dessus, les classes qui sont répertoriées dans nos raw_data ne sont pas dans le bon ordre. Pour pallier à ce problème, nous essayerons de changer le retour des fonctions de validations et d'affichage."
   ]
  },
  {
   "cell_type": "code",
   "execution_count": 8,
   "metadata": {},
   "outputs": [
    {
     "data": {
      "image/png": "[encoded data removed]",
      "text/plain": [
       "<Figure size 432x288 with 1 Axes>"
      ]
     },
     "metadata": {
      "needs_background": "light"
     },
     "output_type": "display_data"
    },
    {
     "name": "stdout",
     "output_type": "stream",
     "text": [
      "Ceder le passage\n"
     ]
    },
    {
     "data": {
      "image/png": "[encoded data removed]",
      "text/plain": [
       "<Figure size 432x288 with 1 Axes>"
      ]
     },
     "metadata": {
      "needs_background": "light"
     },
     "output_type": "display_data"
    },
    {
     "name": "stdout",
     "output_type": "stream",
     "text": [
      "Arret a' l'intersection\n"
     ]
    },
    {
     "data": {
      "image/png": "[encoded data removed]",
      "text/plain": [
       "<Figure size 432x288 with 1 Axes>"
      ]
     },
     "metadata": {
      "needs_background": "light"
     },
     "output_type": "display_data"
    },
    {
     "name": "stdout",
     "output_type": "stream",
     "text": [
      "Limitation de vitesse (30km/h)\n"
     ]
    },
    {
     "data": {
      "image/png": "[encoded data removed]",
      "text/plain": [
       "<Figure size 432x288 with 1 Axes>"
      ]
     },
     "metadata": {
      "needs_background": "light"
     },
     "output_type": "display_data"
    },
    {
     "name": "stdout",
     "output_type": "stream",
     "text": [
      "Chaussee retrecie par la droite\n"
     ]
    },
    {
     "data": {
      "image/png": "[encoded data removed]",
      "text/plain": [
       "<Figure size 432x288 with 1 Axes>"
      ]
     },
     "metadata": {
      "needs_background": "light"
     },
     "output_type": "display_data"
    },
    {
     "name": "stdout",
     "output_type": "stream",
     "text": [
      "Ceder le passage\n"
     ]
    }
   ],
   "source": [
    "for images, labels in train_loader :\n",
    "    for i in range(5) :\n",
    "        plt.imshow(images[i].permute(1,2,0))\n",
    "        plt.show()\n",
    "        print(CLASSES[int(raw_data.classes[labels[i]])]) # pour palier au probleme d'ordre des classes voici ce que nous devons faire\n",
    "    break"
   ]
  },
  {
   "cell_type": "markdown",
   "metadata": {},
   "source": [
    "Regardons maintenant la repartition des données, en commençant par les raw_data."
   ]
  },
  {
   "cell_type": "code",
   "execution_count": 9,
   "metadata": {},
   "outputs": [],
   "source": [
    "def repartition(dico, d, total) :\n",
    "    for image, label in d :\n",
    "        if raw_data.classes[label] in dico :\n",
    "            dico[raw_data.classes[label]] += 1\n",
    "        else :\n",
    "            dico[raw_data.classes[label]] = 1\n",
    "        total += 1\n",
    "\n",
    "    for key in dico :\n",
    "        dico[key] = 100*(dico[key] / total)\n",
    "\n",
    "    my_list = dico.items()\n",
    "    my_list = sorted(my_list)\n",
    "    x, y = zip(*my_list)\n",
    "\n",
    "    import plotly.graph_objects as go\n",
    "    fig = go.Figure(\n",
    "        data=[go.Bar(x=x, y=y)],\n",
    "        layout_title_text=\"Nombre d'images par classe (en %)\",\n",
    "        layout_width=1000,\n",
    "        layout_height=500\n",
    "    )\n",
    "    fig.show()\n",
    "    return x, y"
   ]
  },
  {
   "cell_type": "code",
   "execution_count": 10,
   "metadata": {},
   "outputs": [
    {
     "data": {
      "application/vnd.plotly.v1+json": {
       "config": {
        "plotlyServerURL": "https://plot.ly"
       },
       "data": [
        {
         "type": "bar",
         "x": [
          "0",
          "1",
          "10",
          "11",
          "12",
          "13",
          "14",
          "15",
          "16",
          "17",
          "18",
          "19",
          "2",
          "20",
          "21",
          "22",
          "23",
          "24",
          "25",
          "26",
          "27",
          "28",
          "29",
          "3",
          "30",
          "31",
          "32",
          "33",
          "34",
          "35",
          "36",
          "37",
          "38",
          "39",
          "4",
          "40",
          "41",
          "42",
          "5",
          "6",
          "7",
          "8",
          "9"
         ],
         "y": [
          0.5355913183197735,
          5.661965365094749,
          5.126374046774975,
          3.366574000867148,
          5.355913183197735,
          5.508939274146242,
          1.9893391823305875,
          1.6067739549593205,
          1.071182636639547,
          2.8309826825473743,
          3.0605218189701344,
          0.5355913183197735,
          5.738478410569002,
          0.9181565456910403,
          0.841643500216787,
          0.9946695911652937,
          1.300721773062307,
          0.6886174092682803,
          3.825652273712668,
          1.5302609094850672,
          0.6121043637940269,
          1.3772348185365606,
          0.6886174092682803,
          3.5961131372899082,
          1.1476956821138005,
          1.9893391823305875,
          0.6121043637940269,
          1.7572496110586855,
          1.071182636639547,
          3.0605218189701344,
          0.9946695911652937,
          0.5355913183197735,
          5.279400137723482,
          0.7651304547425336,
          5.049861001300722,
          0.9181565456910403,
          0.6121043637940269,
          0.6121043637940269,
          4.743808819403708,
          1.071182636639547,
          3.6726261827641613,
          3.5961131372899082,
          3.749139228238415
         ]
        }
       ],
       "layout": {
        "height": 500,
        "template": {
         "data": {
          "bar": [
           {
            "error_x": {
             "color": "#2a3f5f"
            },
            "error_y": {
             "color": "#2a3f5f"
            },
            "marker": {
             "line": {
              "color": "#E5ECF6",
              "width": 0.5
             },
             "pattern": {
              "fillmode": "overlay",
              "size": 10,
              "solidity": 0.2
             }
            },
            "type": "bar"
           }
          ],
          "barpolar": [
           {
            "marker": {
             "line": {
              "color": "#E5ECF6",
              "width": 0.5
             },
             "pattern": {
              "fillmode": "overlay",
              "size": 10,
              "solidity": 0.2
             }
            },
            "type": "barpolar"
           }
          ],
          "carpet": [
           {
            "aaxis": {
             "endlinecolor": "#2a3f5f",
             "gridcolor": "white",
             "linecolor": "white",
             "minorgridcolor": "white",
             "startlinecolor": "#2a3f5f"
            },
            "baxis": {
             "endlinecolor": "#2a3f5f",
             "gridcolor": "white",
             "linecolor": "white",
             "minorgridcolor": "white",
             "startlinecolor": "#2a3f5f"
            },
            "type": "carpet"
           }
          ],
          "choropleth": [
           {
            "colorbar": {
             "outlinewidth": 0,
             "ticks": ""
            },
            "type": "choropleth"
           }
          ],
          "contour": [
           {
            "colorbar": {
             "outlinewidth": 0,
             "ticks": ""
            },
            "colorscale": [
             [
              0,
              "#0d0887"
             ],
             [
              0.1111111111111111,
              "#46039f"
             ],
             [
              0.2222222222222222,
              "#7201a8"
             ],
             [
              0.3333333333333333,
              "#9c179e"
             ],
             [
              0.4444444444444444,
              "#bd3786"
             ],
             [
              0.5555555555555556,
              "#d8576b"
             ],
             [
              0.6666666666666666,
              "#ed7953"
             ],
             [
              0.7777777777777778,
              "#fb9f3a"
             ],
             [
              0.8888888888888888,
              "#fdca26"
             ],
             [
              1,
              "#f0f921"
             ]
            ],
            "type": "contour"
           }
          ],
          "contourcarpet": [
           {
            "colorbar": {
             "outlinewidth": 0,
             "ticks": ""
            },
            "type": "contourcarpet"
           }
          ],
          "heatmap": [
           {
            "colorbar": {
             "outlinewidth": 0,
             "ticks": ""
            },
            "colorscale": [
             [
              0,
              "#0d0887"
             ],
             [
              0.1111111111111111,
              "#46039f"
             ],
             [
              0.2222222222222222,
              "#7201a8"
             ],
             [
              0.3333333333333333,
              "#9c179e"
             ],
             [
              0.4444444444444444,
              "#bd3786"
             ],
             [
              0.5555555555555556,
              "#d8576b"
             ],
             [
              0.6666666666666666,
              "#ed7953"
             ],
             [
              0.7777777777777778,
              "#fb9f3a"
             ],
             [
              0.8888888888888888,
              "#fdca26"
             ],
             [
              1,
              "#f0f921"
             ]
            ],
            "type": "heatmap"
           }
          ],
          "heatmapgl": [
           {
            "colorbar": {
             "outlinewidth": 0,
             "ticks": ""
            },
            "colorscale": [
             [
              0,
              "#0d0887"
             ],
             [
              0.1111111111111111,
              "#46039f"
             ],
             [
              0.2222222222222222,
              "#7201a8"
             ],
             [
              0.3333333333333333,
              "#9c179e"
             ],
             [
              0.4444444444444444,
              "#bd3786"
             ],
             [
              0.5555555555555556,
              "#d8576b"
             ],
             [
              0.6666666666666666,
              "#ed7953"
             ],
             [
              0.7777777777777778,
              "#fb9f3a"
             ],
             [
              0.8888888888888888,
              "#fdca26"
             ],
             [
              1,
              "#f0f921"
             ]
            ],
            "type": "heatmapgl"
           }
          ],
          "histogram": [
           {
            "marker": {
             "pattern": {
              "fillmode": "overlay",
              "size": 10,
              "solidity": 0.2
             }
            },
            "type": "histogram"
           }
          ],
          "histogram2d": [
           {
            "colorbar": {
             "outlinewidth": 0,
             "ticks": ""
            },
            "colorscale": [
             [
              0,
              "#0d0887"
             ],
             [
              0.1111111111111111,
              "#46039f"
             ],
             [
              0.2222222222222222,
              "#7201a8"
             ],
             [
              0.3333333333333333,
              "#9c179e"
             ],
             [
              0.4444444444444444,
              "#bd3786"
             ],
             [
              0.5555555555555556,
              "#d8576b"
             ],
             [
              0.6666666666666666,
              "#ed7953"
             ],
             [
              0.7777777777777778,
              "#fb9f3a"
             ],
             [
              0.8888888888888888,
              "#fdca26"
             ],
             [
              1,
              "#f0f921"
             ]
            ],
            "type": "histogram2d"
           }
          ],
          "histogram2dcontour": [
           {
            "colorbar": {
             "outlinewidth": 0,
             "ticks": ""
            },
            "colorscale": [
             [
              0,
              "#0d0887"
             ],
             [
              0.1111111111111111,
              "#46039f"
             ],
             [
              0.2222222222222222,
              "#7201a8"
             ],
             [
              0.3333333333333333,
              "#9c179e"
             ],
             [
              0.4444444444444444,
              "#bd3786"
             ],
             [
              0.5555555555555556,
              "#d8576b"
             ],
             [
              0.6666666666666666,
              "#ed7953"
             ],
             [
              0.7777777777777778,
              "#fb9f3a"
             ],
             [
              0.8888888888888888,
              "#fdca26"
             ],
             [
              1,
              "#f0f921"
             ]
            ],
            "type": "histogram2dcontour"
           }
          ],
          "mesh3d": [
           {
            "colorbar": {
             "outlinewidth": 0,
             "ticks": ""
            },
            "type": "mesh3d"
           }
          ],
          "parcoords": [
           {
            "line": {
             "colorbar": {
              "outlinewidth": 0,
              "ticks": ""
             }
            },
            "type": "parcoords"
           }
          ],
          "pie": [
           {
            "automargin": true,
            "type": "pie"
           }
          ],
          "scatter": [
           {
            "marker": {
             "colorbar": {
              "outlinewidth": 0,
              "ticks": ""
             }
            },
            "type": "scatter"
           }
          ],
          "scatter3d": [
           {
            "line": {
             "colorbar": {
              "outlinewidth": 0,
              "ticks": ""
             }
            },
            "marker": {
             "colorbar": {
              "outlinewidth": 0,
              "ticks": ""
             }
            },
            "type": "scatter3d"
           }
          ],
          "scattercarpet": [
           {
            "marker": {
             "colorbar": {
              "outlinewidth": 0,
              "ticks": ""
             }
            },
            "type": "scattercarpet"
           }
          ],
          "scattergeo": [
           {
            "marker": {
             "colorbar": {
              "outlinewidth": 0,
              "ticks": ""
             }
            },
            "type": "scattergeo"
           }
          ],
          "scattergl": [
           {
            "marker": {
             "colorbar": {
              "outlinewidth": 0,
              "ticks": ""
             }
            },
            "type": "scattergl"
           }
          ],
          "scattermapbox": [
           {
            "marker": {
             "colorbar": {
              "outlinewidth": 0,
              "ticks": ""
             }
            },
            "type": "scattermapbox"
           }
          ],
          "scatterpolar": [
           {
            "marker": {
             "colorbar": {
              "outlinewidth": 0,
              "ticks": ""
             }
            },
            "type": "scatterpolar"
           }
          ],
          "scatterpolargl": [
           {
            "marker": {
             "colorbar": {
              "outlinewidth": 0,
              "ticks": ""
             }
            },
            "type": "scatterpolargl"
           }
          ],
          "scatterternary": [
           {
            "marker": {
             "colorbar": {
              "outlinewidth": 0,
              "ticks": ""
             }
            },
            "type": "scatterternary"
           }
          ],
          "surface": [
           {
            "colorbar": {
             "outlinewidth": 0,
             "ticks": ""
            },
            "colorscale": [
             [
              0,
              "#0d0887"
             ],
             [
              0.1111111111111111,
              "#46039f"
             ],
             [
              0.2222222222222222,
              "#7201a8"
             ],
             [
              0.3333333333333333,
              "#9c179e"
             ],
             [
              0.4444444444444444,
              "#bd3786"
             ],
             [
              0.5555555555555556,
              "#d8576b"
             ],
             [
              0.6666666666666666,
              "#ed7953"
             ],
             [
              0.7777777777777778,
              "#fb9f3a"
             ],
             [
              0.8888888888888888,
              "#fdca26"
             ],
             [
              1,
              "#f0f921"
             ]
            ],
            "type": "surface"
           }
          ],
          "table": [
           {
            "cells": {
             "fill": {
              "color": "#EBF0F8"
             },
             "line": {
              "color": "white"
             }
            },
            "header": {
             "fill": {
              "color": "#C8D4E3"
             },
             "line": {
              "color": "white"
             }
            },
            "type": "table"
           }
          ]
         },
         "layout": {
          "annotationdefaults": {
           "arrowcolor": "#2a3f5f",
           "arrowhead": 0,
           "arrowwidth": 1
          },
          "autotypenumbers": "strict",
          "coloraxis": {
           "colorbar": {
            "outlinewidth": 0,
            "ticks": ""
           }
          },
          "colorscale": {
           "diverging": [
            [
             0,
             "#8e0152"
            ],
            [
             0.1,
             "#c51b7d"
            ],
            [
             0.2,
             "#de77ae"
            ],
            [
             0.3,
             "#f1b6da"
            ],
            [
             0.4,
             "#fde0ef"
            ],
            [
             0.5,
             "#f7f7f7"
            ],
            [
             0.6,
             "#e6f5d0"
            ],
            [
             0.7,
             "#b8e186"
            ],
            [
             0.8,
             "#7fbc41"
            ],
            [
             0.9,
             "#4d9221"
            ],
            [
             1,
             "#276419"
            ]
           ],
           "sequential": [
            [
             0,
             "#0d0887"
            ],
            [
             0.1111111111111111,
             "#46039f"
            ],
            [
             0.2222222222222222,
             "#7201a8"
            ],
            [
             0.3333333333333333,
             "#9c179e"
            ],
            [
             0.4444444444444444,
             "#bd3786"
            ],
            [
             0.5555555555555556,
             "#d8576b"
            ],
            [
             0.6666666666666666,
             "#ed7953"
            ],
            [
             0.7777777777777778,
             "#fb9f3a"
            ],
            [
             0.8888888888888888,
             "#fdca26"
            ],
            [
             1,
             "#f0f921"
            ]
           ],
           "sequentialminus": [
            [
             0,
             "#0d0887"
            ],
            [
             0.1111111111111111,
             "#46039f"
            ],
            [
             0.2222222222222222,
             "#7201a8"
            ],
            [
             0.3333333333333333,
             "#9c179e"
            ],
            [
             0.4444444444444444,
             "#bd3786"
            ],
            [
             0.5555555555555556,
             "#d8576b"
            ],
            [
             0.6666666666666666,
             "#ed7953"
            ],
            [
             0.7777777777777778,
             "#fb9f3a"
            ],
            [
             0.8888888888888888,
             "#fdca26"
            ],
            [
             1,
             "#f0f921"
            ]
           ]
          },
          "colorway": [
           "#636efa",
           "#EF553B",
           "#00cc96",
           "#ab63fa",
           "#FFA15A",
           "#19d3f3",
           "#FF6692",
           "#B6E880",
           "#FF97FF",
           "#FECB52"
          ],
          "font": {
           "color": "#2a3f5f"
          },
          "geo": {
           "bgcolor": "white",
           "lakecolor": "white",
           "landcolor": "#E5ECF6",
           "showlakes": true,
           "showland": true,
           "subunitcolor": "white"
          },
          "hoverlabel": {
           "align": "left"
          },
          "hovermode": "closest",
          "mapbox": {
           "style": "light"
          },
          "paper_bgcolor": "white",
          "plot_bgcolor": "#E5ECF6",
          "polar": {
           "angularaxis": {
            "gridcolor": "white",
            "linecolor": "white",
            "ticks": ""
           },
           "bgcolor": "#E5ECF6",
           "radialaxis": {
            "gridcolor": "white",
            "linecolor": "white",
            "ticks": ""
           }
          },
          "scene": {
           "xaxis": {
            "backgroundcolor": "#E5ECF6",
            "gridcolor": "white",
            "gridwidth": 2,
            "linecolor": "white",
            "showbackground": true,
            "ticks": "",
            "zerolinecolor": "white"
           },
           "yaxis": {
            "backgroundcolor": "#E5ECF6",
            "gridcolor": "white",
            "gridwidth": 2,
            "linecolor": "white",
            "showbackground": true,
            "ticks": "",
            "zerolinecolor": "white"
           },
           "zaxis": {
            "backgroundcolor": "#E5ECF6",
            "gridcolor": "white",
            "gridwidth": 2,
            "linecolor": "white",
            "showbackground": true,
            "ticks": "",
            "zerolinecolor": "white"
           }
          },
          "shapedefaults": {
           "line": {
            "color": "#2a3f5f"
           }
          },
          "ternary": {
           "aaxis": {
            "gridcolor": "white",
            "linecolor": "white",
            "ticks": ""
           },
           "baxis": {
            "gridcolor": "white",
            "linecolor": "white",
            "ticks": ""
           },
           "bgcolor": "#E5ECF6",
           "caxis": {
            "gridcolor": "white",
            "linecolor": "white",
            "ticks": ""
           }
          },
          "title": {
           "x": 0.05
          },
          "xaxis": {
           "automargin": true,
           "gridcolor": "white",
           "linecolor": "white",
           "ticks": "",
           "title": {
            "standoff": 15
           },
           "zerolinecolor": "white",
           "zerolinewidth": 2
          },
          "yaxis": {
           "automargin": true,
           "gridcolor": "white",
           "linecolor": "white",
           "ticks": "",
           "title": {
            "standoff": 15
           },
           "zerolinecolor": "white",
           "zerolinewidth": 2
          }
         }
        },
        "title": {
         "text": "Nombre d'images par classe (en %)"
        },
        "width": 1000
       }
      }
     },
     "metadata": {},
     "output_type": "display_data"
    }
   ],
   "source": [
    "raw_count = {}\n",
    "raw_total = 0\n",
    "\n",
    "x_r, y_r = repartition(raw_count, raw_data, raw_total)"
   ]
  },
  {
   "cell_type": "markdown",
   "metadata": {},
   "source": [
    "Regardons la repartition du Test pour finir."
   ]
  },
  {
   "cell_type": "code",
   "execution_count": 11,
   "metadata": {},
   "outputs": [
    {
     "data": {
      "application/vnd.plotly.v1+json": {
       "config": {
        "plotlyServerURL": "https://plot.ly"
       },
       "data": [
        {
         "type": "bar",
         "x": [
          "0",
          "1",
          "10",
          "11",
          "12",
          "13",
          "14",
          "15",
          "16",
          "17",
          "18",
          "19",
          "2",
          "20",
          "21",
          "22",
          "23",
          "24",
          "25",
          "26",
          "27",
          "28",
          "29",
          "3",
          "30",
          "31",
          "32",
          "33",
          "34",
          "35",
          "36",
          "37",
          "38",
          "39",
          "4",
          "40",
          "41",
          "42",
          "5",
          "6",
          "7",
          "8",
          "9"
         ],
         "y": [
          0.4750593824228029,
          5.7007125890736345,
          5.938242280285035,
          3.5629453681710213,
          5.225653206650831,
          4.98812351543943,
          1.187648456057007,
          3.5629453681710213,
          3.5629453681710213,
          3.800475059382423,
          5.225653206650831,
          3.32541567695962,
          5.463182897862233,
          5.7007125890736345,
          2.137767220902613,
          1.66270783847981,
          1.187648456057007,
          2.8503562945368173,
          3.0878859857482186,
          0.4750593824228029,
          0.7125890736342043,
          0.7125890736342043,
          0.9501187648456058,
          1.187648456057007,
          0.7125890736342043,
          3.800475059382423,
          1.4251781472684086,
          0.4750593824228029,
          1.187648456057007,
          0.7125890736342043,
          1.187648456057007,
          2.137767220902613,
          0.4750593824228029,
          1.66270783847981,
          0.9501187648456058,
          3.0878859857482186,
          0.9501187648456058,
          0.4750593824228029,
          5.463182897862233,
          0.7125890736342043,
          0.7125890736342043,
          0.4750593824228029,
          0.7125890736342043
         ]
        }
       ],
       "layout": {
        "height": 500,
        "template": {
         "data": {
          "bar": [
           {
            "error_x": {
             "color": "#2a3f5f"
            },
            "error_y": {
             "color": "#2a3f5f"
            },
            "marker": {
             "line": {
              "color": "#E5ECF6",
              "width": 0.5
             },
             "pattern": {
              "fillmode": "overlay",
              "size": 10,
              "solidity": 0.2
             }
            },
            "type": "bar"
           }
          ],
          "barpolar": [
           {
            "marker": {
             "line": {
              "color": "#E5ECF6",
              "width": 0.5
             },
             "pattern": {
              "fillmode": "overlay",
              "size": 10,
              "solidity": 0.2
             }
            },
            "type": "barpolar"
           }
          ],
          "carpet": [
           {
            "aaxis": {
             "endlinecolor": "#2a3f5f",
             "gridcolor": "white",
             "linecolor": "white",
             "minorgridcolor": "white",
             "startlinecolor": "#2a3f5f"
            },
            "baxis": {
             "endlinecolor": "#2a3f5f",
             "gridcolor": "white",
             "linecolor": "white",
             "minorgridcolor": "white",
             "startlinecolor": "#2a3f5f"
            },
            "type": "carpet"
           }
          ],
          "choropleth": [
           {
            "colorbar": {
             "outlinewidth": 0,
             "ticks": ""
            },
            "type": "choropleth"
           }
          ],
          "contour": [
           {
            "colorbar": {
             "outlinewidth": 0,
             "ticks": ""
            },
            "colorscale": [
             [
              0,
              "#0d0887"
             ],
             [
              0.1111111111111111,
              "#46039f"
             ],
             [
              0.2222222222222222,
              "#7201a8"
             ],
             [
              0.3333333333333333,
              "#9c179e"
             ],
             [
              0.4444444444444444,
              "#bd3786"
             ],
             [
              0.5555555555555556,
              "#d8576b"
             ],
             [
              0.6666666666666666,
              "#ed7953"
             ],
             [
              0.7777777777777778,
              "#fb9f3a"
             ],
             [
              0.8888888888888888,
              "#fdca26"
             ],
             [
              1,
              "#f0f921"
             ]
            ],
            "type": "contour"
           }
          ],
          "contourcarpet": [
           {
            "colorbar": {
             "outlinewidth": 0,
             "ticks": ""
            },
            "type": "contourcarpet"
           }
          ],
          "heatmap": [
           {
            "colorbar": {
             "outlinewidth": 0,
             "ticks": ""
            },
            "colorscale": [
             [
              0,
              "#0d0887"
             ],
             [
              0.1111111111111111,
              "#46039f"
             ],
             [
              0.2222222222222222,
              "#7201a8"
             ],
             [
              0.3333333333333333,
              "#9c179e"
             ],
             [
              0.4444444444444444,
              "#bd3786"
             ],
             [
              0.5555555555555556,
              "#d8576b"
             ],
             [
              0.6666666666666666,
              "#ed7953"
             ],
             [
              0.7777777777777778,
              "#fb9f3a"
             ],
             [
              0.8888888888888888,
              "#fdca26"
             ],
             [
              1,
              "#f0f921"
             ]
            ],
            "type": "heatmap"
           }
          ],
          "heatmapgl": [
           {
            "colorbar": {
             "outlinewidth": 0,
             "ticks": ""
            },
            "colorscale": [
             [
              0,
              "#0d0887"
             ],
             [
              0.1111111111111111,
              "#46039f"
             ],
             [
              0.2222222222222222,
              "#7201a8"
             ],
             [
              0.3333333333333333,
              "#9c179e"
             ],
             [
              0.4444444444444444,
              "#bd3786"
             ],
             [
              0.5555555555555556,
              "#d8576b"
             ],
             [
              0.6666666666666666,
              "#ed7953"
             ],
             [
              0.7777777777777778,
              "#fb9f3a"
             ],
             [
              0.8888888888888888,
              "#fdca26"
             ],
             [
              1,
              "#f0f921"
             ]
            ],
            "type": "heatmapgl"
           }
          ],
          "histogram": [
           {
            "marker": {
             "pattern": {
              "fillmode": "overlay",
              "size": 10,
              "solidity": 0.2
             }
            },
            "type": "histogram"
           }
          ],
          "histogram2d": [
           {
            "colorbar": {
             "outlinewidth": 0,
             "ticks": ""
            },
            "colorscale": [
             [
              0,
              "#0d0887"
             ],
             [
              0.1111111111111111,
              "#46039f"
             ],
             [
              0.2222222222222222,
              "#7201a8"
             ],
             [
              0.3333333333333333,
              "#9c179e"
             ],
             [
              0.4444444444444444,
              "#bd3786"
             ],
             [
              0.5555555555555556,
              "#d8576b"
             ],
             [
              0.6666666666666666,
              "#ed7953"
             ],
             [
              0.7777777777777778,
              "#fb9f3a"
             ],
             [
              0.8888888888888888,
              "#fdca26"
             ],
             [
              1,
              "#f0f921"
             ]
            ],
            "type": "histogram2d"
           }
          ],
          "histogram2dcontour": [
           {
            "colorbar": {
             "outlinewidth": 0,
             "ticks": ""
            },
            "colorscale": [
             [
              0,
              "#0d0887"
             ],
             [
              0.1111111111111111,
              "#46039f"
             ],
             [
              0.2222222222222222,
              "#7201a8"
             ],
             [
              0.3333333333333333,
              "#9c179e"
             ],
             [
              0.4444444444444444,
              "#bd3786"
             ],
             [
              0.5555555555555556,
              "#d8576b"
             ],
             [
              0.6666666666666666,
              "#ed7953"
             ],
             [
              0.7777777777777778,
              "#fb9f3a"
             ],
             [
              0.8888888888888888,
              "#fdca26"
             ],
             [
              1,
              "#f0f921"
             ]
            ],
            "type": "histogram2dcontour"
           }
          ],
          "mesh3d": [
           {
            "colorbar": {
             "outlinewidth": 0,
             "ticks": ""
            },
            "type": "mesh3d"
           }
          ],
          "parcoords": [
           {
            "line": {
             "colorbar": {
              "outlinewidth": 0,
              "ticks": ""
             }
            },
            "type": "parcoords"
           }
          ],
          "pie": [
           {
            "automargin": true,
            "type": "pie"
           }
          ],
          "scatter": [
           {
            "marker": {
             "colorbar": {
              "outlinewidth": 0,
              "ticks": ""
             }
            },
            "type": "scatter"
           }
          ],
          "scatter3d": [
           {
            "line": {
             "colorbar": {
              "outlinewidth": 0,
              "ticks": ""
             }
            },
            "marker": {
             "colorbar": {
              "outlinewidth": 0,
              "ticks": ""
             }
            },
            "type": "scatter3d"
           }
          ],
          "scattercarpet": [
           {
            "marker": {
             "colorbar": {
              "outlinewidth": 0,
              "ticks": ""
             }
            },
            "type": "scattercarpet"
           }
          ],
          "scattergeo": [
           {
            "marker": {
             "colorbar": {
              "outlinewidth": 0,
              "ticks": ""
             }
            },
            "type": "scattergeo"
           }
          ],
          "scattergl": [
           {
            "marker": {
             "colorbar": {
              "outlinewidth": 0,
              "ticks": ""
             }
            },
            "type": "scattergl"
           }
          ],
          "scattermapbox": [
           {
            "marker": {
             "colorbar": {
              "outlinewidth": 0,
              "ticks": ""
             }
            },
            "type": "scattermapbox"
           }
          ],
          "scatterpolar": [
           {
            "marker": {
             "colorbar": {
              "outlinewidth": 0,
              "ticks": ""
             }
            },
            "type": "scatterpolar"
           }
          ],
          "scatterpolargl": [
           {
            "marker": {
             "colorbar": {
              "outlinewidth": 0,
              "ticks": ""
             }
            },
            "type": "scatterpolargl"
           }
          ],
          "scatterternary": [
           {
            "marker": {
             "colorbar": {
              "outlinewidth": 0,
              "ticks": ""
             }
            },
            "type": "scatterternary"
           }
          ],
          "surface": [
           {
            "colorbar": {
             "outlinewidth": 0,
             "ticks": ""
            },
            "colorscale": [
             [
              0,
              "#0d0887"
             ],
             [
              0.1111111111111111,
              "#46039f"
             ],
             [
              0.2222222222222222,
              "#7201a8"
             ],
             [
              0.3333333333333333,
              "#9c179e"
             ],
             [
              0.4444444444444444,
              "#bd3786"
             ],
             [
              0.5555555555555556,
              "#d8576b"
             ],
             [
              0.6666666666666666,
              "#ed7953"
             ],
             [
              0.7777777777777778,
              "#fb9f3a"
             ],
             [
              0.8888888888888888,
              "#fdca26"
             ],
             [
              1,
              "#f0f921"
             ]
            ],
            "type": "surface"
           }
          ],
          "table": [
           {
            "cells": {
             "fill": {
              "color": "#EBF0F8"
             },
             "line": {
              "color": "white"
             }
            },
            "header": {
             "fill": {
              "color": "#C8D4E3"
             },
             "line": {
              "color": "white"
             }
            },
            "type": "table"
           }
          ]
         },
         "layout": {
          "annotationdefaults": {
           "arrowcolor": "#2a3f5f",
           "arrowhead": 0,
           "arrowwidth": 1
          },
          "autotypenumbers": "strict",
          "coloraxis": {
           "colorbar": {
            "outlinewidth": 0,
            "ticks": ""
           }
          },
          "colorscale": {
           "diverging": [
            [
             0,
             "#8e0152"
            ],
            [
             0.1,
             "#c51b7d"
            ],
            [
             0.2,
             "#de77ae"
            ],
            [
             0.3,
             "#f1b6da"
            ],
            [
             0.4,
             "#fde0ef"
            ],
            [
             0.5,
             "#f7f7f7"
            ],
            [
             0.6,
             "#e6f5d0"
            ],
            [
             0.7,
             "#b8e186"
            ],
            [
             0.8,
             "#7fbc41"
            ],
            [
             0.9,
             "#4d9221"
            ],
            [
             1,
             "#276419"
            ]
           ],
           "sequential": [
            [
             0,
             "#0d0887"
            ],
            [
             0.1111111111111111,
             "#46039f"
            ],
            [
             0.2222222222222222,
             "#7201a8"
            ],
            [
             0.3333333333333333,
             "#9c179e"
            ],
            [
             0.4444444444444444,
             "#bd3786"
            ],
            [
             0.5555555555555556,
             "#d8576b"
            ],
            [
             0.6666666666666666,
             "#ed7953"
            ],
            [
             0.7777777777777778,
             "#fb9f3a"
            ],
            [
             0.8888888888888888,
             "#fdca26"
            ],
            [
             1,
             "#f0f921"
            ]
           ],
           "sequentialminus": [
            [
             0,
             "#0d0887"
            ],
            [
             0.1111111111111111,
             "#46039f"
            ],
            [
             0.2222222222222222,
             "#7201a8"
            ],
            [
             0.3333333333333333,
             "#9c179e"
            ],
            [
             0.4444444444444444,
             "#bd3786"
            ],
            [
             0.5555555555555556,
             "#d8576b"
            ],
            [
             0.6666666666666666,
             "#ed7953"
            ],
            [
             0.7777777777777778,
             "#fb9f3a"
            ],
            [
             0.8888888888888888,
             "#fdca26"
            ],
            [
             1,
             "#f0f921"
            ]
           ]
          },
          "colorway": [
           "#636efa",
           "#EF553B",
           "#00cc96",
           "#ab63fa",
           "#FFA15A",
           "#19d3f3",
           "#FF6692",
           "#B6E880",
           "#FF97FF",
           "#FECB52"
          ],
          "font": {
           "color": "#2a3f5f"
          },
          "geo": {
           "bgcolor": "white",
           "lakecolor": "white",
           "landcolor": "#E5ECF6",
           "showlakes": true,
           "showland": true,
           "subunitcolor": "white"
          },
          "hoverlabel": {
           "align": "left"
          },
          "hovermode": "closest",
          "mapbox": {
           "style": "light"
          },
          "paper_bgcolor": "white",
          "plot_bgcolor": "#E5ECF6",
          "polar": {
           "angularaxis": {
            "gridcolor": "white",
            "linecolor": "white",
            "ticks": ""
           },
           "bgcolor": "#E5ECF6",
           "radialaxis": {
            "gridcolor": "white",
            "linecolor": "white",
            "ticks": ""
           }
          },
          "scene": {
           "xaxis": {
            "backgroundcolor": "#E5ECF6",
            "gridcolor": "white",
            "gridwidth": 2,
            "linecolor": "white",
            "showbackground": true,
            "ticks": "",
            "zerolinecolor": "white"
           },
           "yaxis": {
            "backgroundcolor": "#E5ECF6",
            "gridcolor": "white",
            "gridwidth": 2,
            "linecolor": "white",
            "showbackground": true,
            "ticks": "",
            "zerolinecolor": "white"
           },
           "zaxis": {
            "backgroundcolor": "#E5ECF6",
            "gridcolor": "white",
            "gridwidth": 2,
            "linecolor": "white",
            "showbackground": true,
            "ticks": "",
            "zerolinecolor": "white"
           }
          },
          "shapedefaults": {
           "line": {
            "color": "#2a3f5f"
           }
          },
          "ternary": {
           "aaxis": {
            "gridcolor": "white",
            "linecolor": "white",
            "ticks": ""
           },
           "baxis": {
            "gridcolor": "white",
            "linecolor": "white",
            "ticks": ""
           },
           "bgcolor": "#E5ECF6",
           "caxis": {
            "gridcolor": "white",
            "linecolor": "white",
            "ticks": ""
           }
          },
          "title": {
           "x": 0.05
          },
          "xaxis": {
           "automargin": true,
           "gridcolor": "white",
           "linecolor": "white",
           "ticks": "",
           "title": {
            "standoff": 15
           },
           "zerolinecolor": "white",
           "zerolinewidth": 2
          },
          "yaxis": {
           "automargin": true,
           "gridcolor": "white",
           "linecolor": "white",
           "ticks": "",
           "title": {
            "standoff": 15
           },
           "zerolinecolor": "white",
           "zerolinewidth": 2
          }
         }
        },
        "title": {
         "text": "Nombre d'images par classe (en %)"
        },
        "width": 1000
       }
      }
     },
     "metadata": {},
     "output_type": "display_data"
    },
    {
     "name": "stdout",
     "output_type": "stream",
     "text": [
      "12630\n"
     ]
    }
   ],
   "source": [
    "test_count = {}\n",
    "test_total = 0\n",
    "\n",
    "x_s, y_s = repartition(test_count, test_dataset, test_total)\n",
    "print(test_dataset.__len__())"
   ]
  },
  {
   "cell_type": "markdown",
   "metadata": {},
   "source": [
    "Combinons maintenant toutes ces données, par curiosité."
   ]
  },
  {
   "cell_type": "code",
   "execution_count": 12,
   "metadata": {},
   "outputs": [
    {
     "data": {
      "application/vnd.plotly.v1+json": {
       "config": {
        "plotlyServerURL": "https://plot.ly"
       },
       "data": [
        {
         "name": "Train / Raw",
         "type": "bar",
         "x": [
          "0",
          "1",
          "10",
          "11",
          "12",
          "13",
          "14",
          "15",
          "16",
          "17",
          "18",
          "19",
          "2",
          "20",
          "21",
          "22",
          "23",
          "24",
          "25",
          "26",
          "27",
          "28",
          "29",
          "3",
          "30",
          "31",
          "32",
          "33",
          "34",
          "35",
          "36",
          "37",
          "38",
          "39",
          "4",
          "40",
          "41",
          "42",
          "5",
          "6",
          "7",
          "8",
          "9"
         ],
         "y": [
          0.5355913183197735,
          5.661965365094749,
          5.126374046774975,
          3.366574000867148,
          5.355913183197735,
          5.508939274146242,
          1.9893391823305875,
          1.6067739549593205,
          1.071182636639547,
          2.8309826825473743,
          3.0605218189701344,
          0.5355913183197735,
          5.738478410569002,
          0.9181565456910403,
          0.841643500216787,
          0.9946695911652937,
          1.300721773062307,
          0.6886174092682803,
          3.825652273712668,
          1.5302609094850672,
          0.6121043637940269,
          1.3772348185365606,
          0.6886174092682803,
          3.5961131372899082,
          1.1476956821138005,
          1.9893391823305875,
          0.6121043637940269,
          1.7572496110586855,
          1.071182636639547,
          3.0605218189701344,
          0.9946695911652937,
          0.5355913183197735,
          5.279400137723482,
          0.7651304547425336,
          5.049861001300722,
          0.9181565456910403,
          0.6121043637940269,
          0.6121043637940269,
          4.743808819403708,
          1.071182636639547,
          3.6726261827641613,
          3.5961131372899082,
          3.749139228238415
         ]
        },
        {
         "name": "Test",
         "type": "bar",
         "x": [
          "0",
          "1",
          "10",
          "11",
          "12",
          "13",
          "14",
          "15",
          "16",
          "17",
          "18",
          "19",
          "2",
          "20",
          "21",
          "22",
          "23",
          "24",
          "25",
          "26",
          "27",
          "28",
          "29",
          "3",
          "30",
          "31",
          "32",
          "33",
          "34",
          "35",
          "36",
          "37",
          "38",
          "39",
          "4",
          "40",
          "41",
          "42",
          "5",
          "6",
          "7",
          "8",
          "9"
         ],
         "y": [
          0.4750593824228029,
          5.7007125890736345,
          5.938242280285035,
          3.5629453681710213,
          5.225653206650831,
          4.98812351543943,
          1.187648456057007,
          3.5629453681710213,
          3.5629453681710213,
          3.800475059382423,
          5.225653206650831,
          3.32541567695962,
          5.463182897862233,
          5.7007125890736345,
          2.137767220902613,
          1.66270783847981,
          1.187648456057007,
          2.8503562945368173,
          3.0878859857482186,
          0.4750593824228029,
          0.7125890736342043,
          0.7125890736342043,
          0.9501187648456058,
          1.187648456057007,
          0.7125890736342043,
          3.800475059382423,
          1.4251781472684086,
          0.4750593824228029,
          1.187648456057007,
          0.7125890736342043,
          1.187648456057007,
          2.137767220902613,
          0.4750593824228029,
          1.66270783847981,
          0.9501187648456058,
          3.0878859857482186,
          0.9501187648456058,
          0.4750593824228029,
          5.463182897862233,
          0.7125890736342043,
          0.7125890736342043,
          0.4750593824228029,
          0.7125890736342043
         ]
        }
       ],
       "layout": {
        "height": 500,
        "template": {
         "data": {
          "bar": [
           {
            "error_x": {
             "color": "#2a3f5f"
            },
            "error_y": {
             "color": "#2a3f5f"
            },
            "marker": {
             "line": {
              "color": "#E5ECF6",
              "width": 0.5
             },
             "pattern": {
              "fillmode": "overlay",
              "size": 10,
              "solidity": 0.2
             }
            },
            "type": "bar"
           }
          ],
          "barpolar": [
           {
            "marker": {
             "line": {
              "color": "#E5ECF6",
              "width": 0.5
             },
             "pattern": {
              "fillmode": "overlay",
              "size": 10,
              "solidity": 0.2
             }
            },
            "type": "barpolar"
           }
          ],
          "carpet": [
           {
            "aaxis": {
             "endlinecolor": "#2a3f5f",
             "gridcolor": "white",
             "linecolor": "white",
             "minorgridcolor": "white",
             "startlinecolor": "#2a3f5f"
            },
            "baxis": {
             "endlinecolor": "#2a3f5f",
             "gridcolor": "white",
             "linecolor": "white",
             "minorgridcolor": "white",
             "startlinecolor": "#2a3f5f"
            },
            "type": "carpet"
           }
          ],
          "choropleth": [
           {
            "colorbar": {
             "outlinewidth": 0,
             "ticks": ""
            },
            "type": "choropleth"
           }
          ],
          "contour": [
           {
            "colorbar": {
             "outlinewidth": 0,
             "ticks": ""
            },
            "colorscale": [
             [
              0,
              "#0d0887"
             ],
             [
              0.1111111111111111,
              "#46039f"
             ],
             [
              0.2222222222222222,
              "#7201a8"
             ],
             [
              0.3333333333333333,
              "#9c179e"
             ],
             [
              0.4444444444444444,
              "#bd3786"
             ],
             [
              0.5555555555555556,
              "#d8576b"
             ],
             [
              0.6666666666666666,
              "#ed7953"
             ],
             [
              0.7777777777777778,
              "#fb9f3a"
             ],
             [
              0.8888888888888888,
              "#fdca26"
             ],
             [
              1,
              "#f0f921"
             ]
            ],
            "type": "contour"
           }
          ],
          "contourcarpet": [
           {
            "colorbar": {
             "outlinewidth": 0,
             "ticks": ""
            },
            "type": "contourcarpet"
           }
          ],
          "heatmap": [
           {
            "colorbar": {
             "outlinewidth": 0,
             "ticks": ""
            },
            "colorscale": [
             [
              0,
              "#0d0887"
             ],
             [
              0.1111111111111111,
              "#46039f"
             ],
             [
              0.2222222222222222,
              "#7201a8"
             ],
             [
              0.3333333333333333,
              "#9c179e"
             ],
             [
              0.4444444444444444,
              "#bd3786"
             ],
             [
              0.5555555555555556,
              "#d8576b"
             ],
             [
              0.6666666666666666,
              "#ed7953"
             ],
             [
              0.7777777777777778,
              "#fb9f3a"
             ],
             [
              0.8888888888888888,
              "#fdca26"
             ],
             [
              1,
              "#f0f921"
             ]
            ],
            "type": "heatmap"
           }
          ],
          "heatmapgl": [
           {
            "colorbar": {
             "outlinewidth": 0,
             "ticks": ""
            },
            "colorscale": [
             [
              0,
              "#0d0887"
             ],
             [
              0.1111111111111111,
              "#46039f"
             ],
             [
              0.2222222222222222,
              "#7201a8"
             ],
             [
              0.3333333333333333,
              "#9c179e"
             ],
             [
              0.4444444444444444,
              "#bd3786"
             ],
             [
              0.5555555555555556,
              "#d8576b"
             ],
             [
              0.6666666666666666,
              "#ed7953"
             ],
             [
              0.7777777777777778,
              "#fb9f3a"
             ],
             [
              0.8888888888888888,
              "#fdca26"
             ],
             [
              1,
              "#f0f921"
             ]
            ],
            "type": "heatmapgl"
           }
          ],
          "histogram": [
           {
            "marker": {
             "pattern": {
              "fillmode": "overlay",
              "size": 10,
              "solidity": 0.2
             }
            },
            "type": "histogram"
           }
          ],
          "histogram2d": [
           {
            "colorbar": {
             "outlinewidth": 0,
             "ticks": ""
            },
            "colorscale": [
             [
              0,
              "#0d0887"
             ],
             [
              0.1111111111111111,
              "#46039f"
             ],
             [
              0.2222222222222222,
              "#7201a8"
             ],
             [
              0.3333333333333333,
              "#9c179e"
             ],
             [
              0.4444444444444444,
              "#bd3786"
             ],
             [
              0.5555555555555556,
              "#d8576b"
             ],
             [
              0.6666666666666666,
              "#ed7953"
             ],
             [
              0.7777777777777778,
              "#fb9f3a"
             ],
             [
              0.8888888888888888,
              "#fdca26"
             ],
             [
              1,
              "#f0f921"
             ]
            ],
            "type": "histogram2d"
           }
          ],
          "histogram2dcontour": [
           {
            "colorbar": {
             "outlinewidth": 0,
             "ticks": ""
            },
            "colorscale": [
             [
              0,
              "#0d0887"
             ],
             [
              0.1111111111111111,
              "#46039f"
             ],
             [
              0.2222222222222222,
              "#7201a8"
             ],
             [
              0.3333333333333333,
              "#9c179e"
             ],
             [
              0.4444444444444444,
              "#bd3786"
             ],
             [
              0.5555555555555556,
              "#d8576b"
             ],
             [
              0.6666666666666666,
              "#ed7953"
             ],
             [
              0.7777777777777778,
              "#fb9f3a"
             ],
             [
              0.8888888888888888,
              "#fdca26"
             ],
             [
              1,
              "#f0f921"
             ]
            ],
            "type": "histogram2dcontour"
           }
          ],
          "mesh3d": [
           {
            "colorbar": {
             "outlinewidth": 0,
             "ticks": ""
            },
            "type": "mesh3d"
           }
          ],
          "parcoords": [
           {
            "line": {
             "colorbar": {
              "outlinewidth": 0,
              "ticks": ""
             }
            },
            "type": "parcoords"
           }
          ],
          "pie": [
           {
            "automargin": true,
            "type": "pie"
           }
          ],
          "scatter": [
           {
            "marker": {
             "colorbar": {
              "outlinewidth": 0,
              "ticks": ""
             }
            },
            "type": "scatter"
           }
          ],
          "scatter3d": [
           {
            "line": {
             "colorbar": {
              "outlinewidth": 0,
              "ticks": ""
             }
            },
            "marker": {
             "colorbar": {
              "outlinewidth": 0,
              "ticks": ""
             }
            },
            "type": "scatter3d"
           }
          ],
          "scattercarpet": [
           {
            "marker": {
             "colorbar": {
              "outlinewidth": 0,
              "ticks": ""
             }
            },
            "type": "scattercarpet"
           }
          ],
          "scattergeo": [
           {
            "marker": {
             "colorbar": {
              "outlinewidth": 0,
              "ticks": ""
             }
            },
            "type": "scattergeo"
           }
          ],
          "scattergl": [
           {
            "marker": {
             "colorbar": {
              "outlinewidth": 0,
              "ticks": ""
             }
            },
            "type": "scattergl"
           }
          ],
          "scattermapbox": [
           {
            "marker": {
             "colorbar": {
              "outlinewidth": 0,
              "ticks": ""
             }
            },
            "type": "scattermapbox"
           }
          ],
          "scatterpolar": [
           {
            "marker": {
             "colorbar": {
              "outlinewidth": 0,
              "ticks": ""
             }
            },
            "type": "scatterpolar"
           }
          ],
          "scatterpolargl": [
           {
            "marker": {
             "colorbar": {
              "outlinewidth": 0,
              "ticks": ""
             }
            },
            "type": "scatterpolargl"
           }
          ],
          "scatterternary": [
           {
            "marker": {
             "colorbar": {
              "outlinewidth": 0,
              "ticks": ""
             }
            },
            "type": "scatterternary"
           }
          ],
          "surface": [
           {
            "colorbar": {
             "outlinewidth": 0,
             "ticks": ""
            },
            "colorscale": [
             [
              0,
              "#0d0887"
             ],
             [
              0.1111111111111111,
              "#46039f"
             ],
             [
              0.2222222222222222,
              "#7201a8"
             ],
             [
              0.3333333333333333,
              "#9c179e"
             ],
             [
              0.4444444444444444,
              "#bd3786"
             ],
             [
              0.5555555555555556,
              "#d8576b"
             ],
             [
              0.6666666666666666,
              "#ed7953"
             ],
             [
              0.7777777777777778,
              "#fb9f3a"
             ],
             [
              0.8888888888888888,
              "#fdca26"
             ],
             [
              1,
              "#f0f921"
             ]
            ],
            "type": "surface"
           }
          ],
          "table": [
           {
            "cells": {
             "fill": {
              "color": "#EBF0F8"
             },
             "line": {
              "color": "white"
             }
            },
            "header": {
             "fill": {
              "color": "#C8D4E3"
             },
             "line": {
              "color": "white"
             }
            },
            "type": "table"
           }
          ]
         },
         "layout": {
          "annotationdefaults": {
           "arrowcolor": "#2a3f5f",
           "arrowhead": 0,
           "arrowwidth": 1
          },
          "autotypenumbers": "strict",
          "coloraxis": {
           "colorbar": {
            "outlinewidth": 0,
            "ticks": ""
           }
          },
          "colorscale": {
           "diverging": [
            [
             0,
             "#8e0152"
            ],
            [
             0.1,
             "#c51b7d"
            ],
            [
             0.2,
             "#de77ae"
            ],
            [
             0.3,
             "#f1b6da"
            ],
            [
             0.4,
             "#fde0ef"
            ],
            [
             0.5,
             "#f7f7f7"
            ],
            [
             0.6,
             "#e6f5d0"
            ],
            [
             0.7,
             "#b8e186"
            ],
            [
             0.8,
             "#7fbc41"
            ],
            [
             0.9,
             "#4d9221"
            ],
            [
             1,
             "#276419"
            ]
           ],
           "sequential": [
            [
             0,
             "#0d0887"
            ],
            [
             0.1111111111111111,
             "#46039f"
            ],
            [
             0.2222222222222222,
             "#7201a8"
            ],
            [
             0.3333333333333333,
             "#9c179e"
            ],
            [
             0.4444444444444444,
             "#bd3786"
            ],
            [
             0.5555555555555556,
             "#d8576b"
            ],
            [
             0.6666666666666666,
             "#ed7953"
            ],
            [
             0.7777777777777778,
             "#fb9f3a"
            ],
            [
             0.8888888888888888,
             "#fdca26"
            ],
            [
             1,
             "#f0f921"
            ]
           ],
           "sequentialminus": [
            [
             0,
             "#0d0887"
            ],
            [
             0.1111111111111111,
             "#46039f"
            ],
            [
             0.2222222222222222,
             "#7201a8"
            ],
            [
             0.3333333333333333,
             "#9c179e"
            ],
            [
             0.4444444444444444,
             "#bd3786"
            ],
            [
             0.5555555555555556,
             "#d8576b"
            ],
            [
             0.6666666666666666,
             "#ed7953"
            ],
            [
             0.7777777777777778,
             "#fb9f3a"
            ],
            [
             0.8888888888888888,
             "#fdca26"
            ],
            [
             1,
             "#f0f921"
            ]
           ]
          },
          "colorway": [
           "#636efa",
           "#EF553B",
           "#00cc96",
           "#ab63fa",
           "#FFA15A",
           "#19d3f3",
           "#FF6692",
           "#B6E880",
           "#FF97FF",
           "#FECB52"
          ],
          "font": {
           "color": "#2a3f5f"
          },
          "geo": {
           "bgcolor": "white",
           "lakecolor": "white",
           "landcolor": "#E5ECF6",
           "showlakes": true,
           "showland": true,
           "subunitcolor": "white"
          },
          "hoverlabel": {
           "align": "left"
          },
          "hovermode": "closest",
          "mapbox": {
           "style": "light"
          },
          "paper_bgcolor": "white",
          "plot_bgcolor": "#E5ECF6",
          "polar": {
           "angularaxis": {
            "gridcolor": "white",
            "linecolor": "white",
            "ticks": ""
           },
           "bgcolor": "#E5ECF6",
           "radialaxis": {
            "gridcolor": "white",
            "linecolor": "white",
            "ticks": ""
           }
          },
          "scene": {
           "xaxis": {
            "backgroundcolor": "#E5ECF6",
            "gridcolor": "white",
            "gridwidth": 2,
            "linecolor": "white",
            "showbackground": true,
            "ticks": "",
            "zerolinecolor": "white"
           },
           "yaxis": {
            "backgroundcolor": "#E5ECF6",
            "gridcolor": "white",
            "gridwidth": 2,
            "linecolor": "white",
            "showbackground": true,
            "ticks": "",
            "zerolinecolor": "white"
           },
           "zaxis": {
            "backgroundcolor": "#E5ECF6",
            "gridcolor": "white",
            "gridwidth": 2,
            "linecolor": "white",
            "showbackground": true,
            "ticks": "",
            "zerolinecolor": "white"
           }
          },
          "shapedefaults": {
           "line": {
            "color": "#2a3f5f"
           }
          },
          "ternary": {
           "aaxis": {
            "gridcolor": "white",
            "linecolor": "white",
            "ticks": ""
           },
           "baxis": {
            "gridcolor": "white",
            "linecolor": "white",
            "ticks": ""
           },
           "bgcolor": "#E5ECF6",
           "caxis": {
            "gridcolor": "white",
            "linecolor": "white",
            "ticks": ""
           }
          },
          "title": {
           "x": 0.05
          },
          "xaxis": {
           "automargin": true,
           "gridcolor": "white",
           "linecolor": "white",
           "ticks": "",
           "title": {
            "standoff": 15
           },
           "zerolinecolor": "white",
           "zerolinewidth": 2
          },
          "yaxis": {
           "automargin": true,
           "gridcolor": "white",
           "linecolor": "white",
           "ticks": "",
           "title": {
            "standoff": 15
           },
           "zerolinecolor": "white",
           "zerolinewidth": 2
          }
         }
        },
        "title": {
         "text": "Nombre d'images par classe (en %)"
        },
        "width": 1200
       }
      }
     },
     "metadata": {},
     "output_type": "display_data"
    }
   ],
   "source": [
    "fig = go.Figure(\n",
    "    data=[\n",
    "        go.Bar(name='Train / Raw', x=x_r, y=y_r),\n",
    "        go.Bar(name='Test', x=x_s, y=y_s)\n",
    "    ],\n",
    "    layout_title_text=\"Nombre d'images par classe (en %)\",\n",
    "    layout_width=1200,\n",
    "    layout_height=500\n",
    ")\n",
    "fig.show()"
   ]
  },
  {
   "cell_type": "markdown",
   "metadata": {},
   "source": [
    "Sur ce graphique, nous voyons donc que certaines classes sont surrepresentées dans notre jeu de données de train/validation, et sous representé par rapport aux données du Test. Cela pourrait avoir une incidence sur sa capacité à reconnaître les bonnes valeurs."
   ]
  },
  {
   "cell_type": "markdown",
   "metadata": {},
   "source": [
    "## Construction du Model"
   ]
  },
  {
   "cell_type": "markdown",
   "metadata": {},
   "source": [
    "### Fonctions de Validation"
   ]
  },
  {
   "cell_type": "markdown",
   "metadata": {},
   "source": [
    "Nous avons codé plusieurs fonctions de validations, chacune prenant des paramètres particuliers, ou faisant des changements particuliers."
   ]
  },
  {
   "cell_type": "code",
   "execution_count": 13,
   "metadata": {},
   "outputs": [],
   "source": [
    "def validate_normal(predictions, labels) :\n",
    "    nb_errors = ((predictions.argmax(1)) != labels).sum()\n",
    "    return (len(predictions)-nb_errors).item()\n",
    "\n",
    "def validate_training(data_loader, model) :\n",
    "    nb_errors = 0\n",
    "    nb_tests = 0\n",
    "    for i, (images, labels) in enumerate(data_loader):\n",
    "        output = model(images)\n",
    "        nb_errors += ((output.argmax(1)) != labels).sum()\n",
    "        nb_tests += len(images)\n",
    "    return (100*(nb_tests-nb_errors)) / nb_tests\n",
    "\n",
    "def validate_test(data_loader, model):\n",
    "    nb_errors = 0\n",
    "    nb_tests = 0\n",
    "    for i, (images, labels) in enumerate(data_loader):\n",
    "        output = model(images.view(-1, 3, 32, 32)).argmax(1)\n",
    "        predictions = []\n",
    "        for prediction in output.tolist() :\n",
    "            predictions.append(raw_data.classes[prediction])\n",
    "\n",
    "        for i in range(len(predictions)) :\n",
    "            if int(predictions[i]) != int(labels[i]) :\n",
    "                nb_errors += 1\n",
    "        nb_tests += len(images)\n",
    "    \n",
    "    return (100*(nb_tests-nb_errors)) / nb_tests"
   ]
  },
  {
   "cell_type": "markdown",
   "metadata": {},
   "source": [
    "### Model"
   ]
  },
  {
   "cell_type": "markdown",
   "metadata": {},
   "source": [
    "Nous avons choisi de partir sur la base de LeNet5 vu en cours, mais en ajoutant certaines choses, comme des dropout ou des couches supplémentaires. Après de multiples essais, nous sommes parvenus à un meilleur score avec celui-ci."
   ]
  },
  {
   "cell_type": "code",
   "execution_count": 14,
   "metadata": {},
   "outputs": [],
   "source": [
    "class LeNet5(nn.Module):\n",
    "    def __init__(self, dropout=0.0, input_canals=3):\n",
    "        super(LeNet5, self).__init__()\n",
    "        self.conv1 = nn.Conv2d(input_canals, 32, kernel_size=(5, 5))        # 3 * 9 * 5 * 5 + 9\n",
    "        self.conv1_2 = nn.Conv2d(32, 32, kernel_size=(3, 3))      # 9 * 9 * 3 * 3 + 9\n",
    "        self.dropout1 = nn.Dropout2d(p=dropout)\n",
    "        self.batchnorm1 = nn.BatchNorm2d(32)                     # as attribute, for affine=True\n",
    "\n",
    "        self.conv2 = nn.Conv2d(32, 64, kernel_size=(4,4))        # 9 * 32 * 3 * 3 + 32\n",
    "        self.conv2_1 = nn.Conv2d(64, 64, kernel_size=(3, 3))    # 32 * 32 * 3 * 3 + 32\n",
    "        self.dropout2 = nn.Dropout2d(p=dropout)\n",
    "        self.batchnorm2 = nn.BatchNorm2d(64)                    # as attribute, for affine=True\n",
    "\n",
    "        self.conv3 = nn.Conv2d(64, 92, kernel_size=(3,3))       # 32 * 64 * 3 * 3 + 92\n",
    "        self.conv3_1 = nn.Conv2d(92, 92, kernel_size=(2, 2))    # 64 * 64 * 3 * 23 + 92\n",
    "        self.dropout3 = nn.Dropout(p=dropout)\n",
    "        self.batchnorm3 = nn.BatchNorm2d(92)                    # as attribute, for affine=True\n",
    "\n",
    "        self.fc1 = nn.Linear(92, 98)                          # 120 * 98 + 98\n",
    "        self.batchnorm4 = nn.BatchNorm1d(98)\n",
    "\n",
    "        self.fc2 = nn.Linear(98, 43)                            # 98 * 43 + 43\n",
    "\n",
    "    def forward(self, input):                                               # B * 3 * 32 * 32  \n",
    "        layer1 = F.relu(self.conv1(input))                                  # B * 9 * 28 * 28    28 car T-K+1 : (32 - 5 + 1) * (32 - 5 + 1)\n",
    "        layer1_2 = F.relu(self.conv1_2(layer1))                             # B * 9 * 26 * 26\n",
    "        layer2 = F.max_pool2d(layer1_2, kernel_size=(2, 2), stride=2)       # B * 9 * 13 * 13\n",
    "        layer2_d = self.dropout1(layer2)\n",
    "        layer2_bn = self.batchnorm1(layer2_d)\n",
    "\n",
    "        layer3 = F.relu(self.conv2(layer2_bn))                              # B * 32 * 10 * 10\n",
    "        layer3_1 = F.relu(self.conv2_1(layer3))                             # B * 16 * 8 * 8\n",
    "        layer4 = F.max_pool2d(layer3_1, kernel_size=(2, 2), stride=2)       # B * 16 * 4 * 4\n",
    "        layer4_d = self.dropout1(layer4)\n",
    "        layer4_bn = self.batchnorm2(layer4_d)\n",
    "\n",
    "        layer5 = F.relu(self.conv3(layer4_bn))                              # B * 120 * 2 * 2\n",
    "        layer5_1 = F.relu(self.conv3_1(layer5))\n",
    "        layer5_d = self.dropout3(layer5_1)\n",
    "        layer5_bn = self.batchnorm3(layer5_d)     \n",
    "\n",
    "        layer6 = F.relu(self.fc1(torch.flatten(layer5_bn,1)))               # B * 92\n",
    "        layer7_bn = self.batchnorm4(layer6)       \n",
    "\n",
    "        layer8 = self.fc2(layer7_bn)                                        # B * 43\n",
    "        return layer8"
   ]
  },
  {
   "cell_type": "markdown",
   "metadata": {},
   "source": [
    "Regardons combien de paramètres possède notre modèle."
   ]
  },
  {
   "cell_type": "code",
   "execution_count": 15,
   "metadata": {},
   "outputs": [
    {
     "name": "stdout",
     "output_type": "stream",
     "text": [
      "total nb parameters:  182415\n"
     ]
    }
   ],
   "source": [
    "net = LeNet5()\n",
    "\n",
    "total_nb_par = 0\n",
    "for p in net.parameters():\n",
    "    total_nb_par += reduce(lambda x, y: x*y, p.shape, 1)\n",
    "print(\"total nb parameters: \", total_nb_par)"
   ]
  },
  {
   "cell_type": "markdown",
   "metadata": {},
   "source": [
    "### La boucle d'apprentissage"
   ]
  },
  {
   "cell_type": "code",
   "execution_count": 16,
   "metadata": {},
   "outputs": [],
   "source": [
    "def train_loop(train_loader, model, loss_map, lr=1e-3, epochs=20, weight_decay=0) :\n",
    "    history = []    #for monitoring\n",
    "\n",
    "    device = torch.device(\"cuda\" if torch.cuda.is_available() else \"cpu\")\n",
    "    print(device)\n",
    "    model.to(device)\n",
    "\n",
    "    optimizer = Adam(model.parameters(), lr=lr, weight_decay=weight_decay) # nous utilisons l'optimiseur Adam vu en cours\n",
    "\n",
    "    # boucle d'apprentissage\n",
    "    for epoch in range(epochs) :\n",
    "        loss_epoch = 0.\n",
    "        train_acc = 0.\n",
    "\n",
    "        model.train()\n",
    "\n",
    "        for images, labels in train_loader :\n",
    "            images, labels = images.to(device), labels.to(device)\n",
    "            output = model(images)\n",
    "            loss = loss_map(output, labels)\n",
    "\n",
    "            model.zero_grad()\n",
    "            loss.backward()\n",
    "            optimizer.step()\n",
    "\n",
    "            loss_epoch += loss.item()\n",
    "            train_acc += validate_normal(output, labels)\n",
    "\n",
    "        # affichage des differents epochs\n",
    "        model.eval()\n",
    "        test_acc = validate_test(test_dataloader, model)\n",
    "        train_acc = 100*train_acc/len(train_loader.dataset)\n",
    "        history.append(\n",
    "            {'epoch' : epoch + 1,\n",
    "             'loss' : loss_epoch,\n",
    "             'train_acc' : train_acc,\n",
    "             'valid_acc' : test_acc})\n",
    "        print(f\"epoch : {epoch + 1}/{epochs}, loss = {loss_epoch:.6f}, train_acc = {train_acc}, test_acc = {test_acc}%\")\n",
    "    return history"
   ]
  },
  {
   "cell_type": "code",
   "execution_count": 17,
   "metadata": {},
   "outputs": [
    {
     "name": "stdout",
     "output_type": "stream",
     "text": [
      "cpu\n",
      "epoch : 1/10, loss = 114.215395, train_acc = 25.79254762937081, test_acc = 46.70625494853523%\n",
      "epoch : 2/10, loss = 46.597052, train_acc = 68.81073222984519, test_acc = 86.00158353127475%\n",
      "epoch : 3/10, loss = 19.448941, train_acc = 88.56385013644827, test_acc = 92.73159144893111%\n",
      "epoch : 4/10, loss = 11.284191, train_acc = 94.21561376214645, test_acc = 95.31274742676167%\n",
      "epoch : 5/10, loss = 8.006238, train_acc = 96.53650947486547, test_acc = 96.24703087885986%\n",
      "epoch : 6/10, loss = 6.994825, train_acc = 97.17921905684919, test_acc = 95.78780680918449%\n",
      "epoch : 7/10, loss = 6.353174, train_acc = 97.58728863271187, test_acc = 97.1021377672209%\n",
      "epoch : 8/10, loss = 6.042404, train_acc = 97.81682776913463, test_acc = 96.38163103721298%\n",
      "epoch : 9/10, loss = 5.587898, train_acc = 98.17133821316534, test_acc = 96.9833729216152%\n",
      "epoch : 10/10, loss = 5.312434, train_acc = 98.30141039047157, test_acc = 96.92003167062549%\n"
     ]
    }
   ],
   "source": [
    "net     = LeNet5(0.4)\n",
    "history = train_loop(train_loader, net, nn.CrossEntropyLoss(), lr=0.00155, epochs=10, weight_decay=0.008)"
   ]
  },
  {
   "cell_type": "code",
   "execution_count": 18,
   "metadata": {},
   "outputs": [
    {
     "data": {
      "image/png": "[encoded data removed]",
      "text/plain": [
       "<Figure size 432x288 with 1 Axes>"
      ]
     },
     "metadata": {
      "needs_background": "light"
     },
     "output_type": "display_data"
    }
   ],
   "source": [
    "def show_loss(histories, without_first=False) :\n",
    "    history =  []\n",
    "    if without_first :\n",
    "        history = histories[1:]\n",
    "    else :\n",
    "        history = histories\n",
    "    fig, ax = plt.subplots()\n",
    "    ax.plot([h['epoch'] for h in history], [h['loss'] for h in history], label='loss')\n",
    "    plt.legend()\n",
    "    plt.show()\n",
    "\n",
    "def show_learning(histories, without_first=False):\n",
    "    history =  []\n",
    "    if without_first :\n",
    "        history = histories[1:]\n",
    "    else :\n",
    "        history = histories\n",
    "    fig, ax = plt.subplots()\n",
    "    ax.plot([h['epoch'] for h in history], [h['train_acc'] for h in history], label='train accuracy')\n",
    "    ax.plot([h['epoch'] for h in history], [h['valid_acc'] for h in history], label='test accuracy')\n",
    "    plt.legend()\n",
    "    plt.show()\n",
    "    \n",
    "show_loss(history, True)\n"
   ]
  },
  {
   "cell_type": "code",
   "execution_count": 19,
   "metadata": {},
   "outputs": [
    {
     "data": {
      "image/png": "[encoded data removed]",
      "text/plain": [
       "<Figure size 432x288 with 1 Axes>"
      ]
     },
     "metadata": {
      "needs_background": "light"
     },
     "output_type": "display_data"
    }
   ],
   "source": [
    "show_learning(history, False)"
   ]
  },
  {
   "cell_type": "markdown",
   "metadata": {},
   "source": [
    "<p>Il serait intéressant de pouvoir obtenir le taux d'apprentissage par classe, pour observer l'apprentissage de notre modèle. Nous allons utiliser une autre librairie que torch pour faire ceci : sklearn. Cette librairie nous propose un rapport de classification avec diverses métrics intéressantes (notamment le f1_score)<p/>"
   ]
  },
  {
   "cell_type": "code",
   "execution_count": 20,
   "metadata": {},
   "outputs": [],
   "source": [
    "def get_metrics(data_loader, model):\n",
    "    y_pred = []\n",
    "    y_true = []\n",
    "    for i, (images, labels) in enumerate(data_loader):\n",
    "        \n",
    "        output = model(images.view(-1, 3, 32, 32)).argmax(1)\n",
    "        #print(output)\n",
    "        predictions = []\n",
    "\n",
    "        for prediction in output.tolist() :\n",
    "            predictions.append(raw_data.classes[prediction])\n",
    "        for i in range(len(predictions)) :\n",
    "            y_pred.append(int(predictions[i]))\n",
    "            y_true.append(int(labels[i]))\n",
    "            \n",
    "    return y_pred, y_true\n",
    "\n",
    "y_pred, y_true = get_metrics(test_dataloader, net)"
   ]
  },
  {
   "cell_type": "code",
   "execution_count": 21,
   "metadata": {},
   "outputs": [
    {
     "name": "stdout",
     "output_type": "stream",
     "text": [
      "                                                                              precision    recall  f1-score   support\n",
      "\n",
      "                                              Limitation de vitesse (20km/h)       1.00      1.00      1.00        60\n",
      "                                              Limitation de vitesse (30km/h)       0.95      0.99      0.97       720\n",
      "                                              Limitation de vitesse (50km/h)       0.95      1.00      0.97       750\n",
      "                                              Limitation de vitesse (60km/h)       0.94      0.98      0.96       450\n",
      "                                              Limitation de vitesse (70km/h)       0.99      0.99      0.99       660\n",
      "                                              Limitation de vitesse (80km/h)       0.98      0.95      0.97       630\n",
      "                                       Fin de limitation de vitesse (80km/h)       1.00      0.90      0.95       150\n",
      "                                             Limitation de vitesse (100km/h)       0.99      0.98      0.98       450\n",
      "                                             Limitation de vitesse (120km/h)       0.97      0.98      0.98       450\n",
      "                                                    Interdiction de depasser       0.99      1.00      0.99       480\n",
      "                              Interdiction de depasser pour vehicules > 3.5t       0.99      0.99      0.99       660\n",
      "                                      Intersection ou' vous etes prioritaire       0.90      0.99      0.94       420\n",
      "                                                           Route prioritaire       0.99      0.97      0.98       690\n",
      "                                                            Ceder le passage       1.00      1.00      1.00       720\n",
      "                                                     Arret a' l'intersection       1.00      1.00      1.00       270\n",
      "                                                       Circulation interdite       0.93      0.92      0.92       210\n",
      "                                         Acces interdit aux vehicules > 3.5t       1.00      0.99      1.00       150\n",
      "                                                               Sens interdit       1.00      1.00      1.00       360\n",
      "                                                                      Danger       0.98      0.83      0.90       390\n",
      "                                                            Virage a' gauche       1.00      0.87      0.93        60\n",
      "                                                            Virage a' droite       0.96      0.98      0.97        90\n",
      "                                                       Succession de virages       0.98      0.59      0.74        90\n",
      "                                                         Cassis ou dos-d'ane       1.00      0.97      0.98       120\n",
      "                                                          Chaussee glissante       0.92      1.00      0.96       150\n",
      "                                             Chaussee retrecie par la droite       0.89      0.97      0.93        90\n",
      "                                                            Travaux en cours       0.92      0.95      0.93       480\n",
      "                                                                Annonce feux       0.86      0.89      0.87       180\n",
      "                                                             Passage pietons       0.97      0.50      0.66        60\n",
      "                                          Endroit frequente' par les enfants       0.96      0.98      0.97       150\n",
      "                                                      Debouche' de cyclistes       0.96      0.89      0.92        90\n",
      "                                                              Neige ou glace       0.98      0.92      0.95       150\n",
      "                                                  Passage d'animaux sauvages       0.94      0.99      0.96       270\n",
      "                                Fin des interdictions precedemment signalees       0.94      1.00      0.97        60\n",
      "              Direction obligatoire a' la prochaine intersection : a' droite       1.00      0.99      1.00       210\n",
      "              Direction obligatoire a' la prochaine intersection : a' gauche       0.99      0.99      0.99       120\n",
      "             Direction obligatoire a' la prochaine intersection : tout droit       1.00      1.00      1.00       390\n",
      "Direction obligatoire a' la prochaine intersection : tout droit ou a' droite       0.99      0.98      0.99       120\n",
      "Direction obligatoire a' la prochaine intersection : tout droit ou a' gauche       1.00      1.00      1.00        60\n",
      "                       Contournement obligatoire de l'obstacle par la droite       0.98      1.00      0.99       690\n",
      "                       Contournement obligatoire de l'obstacle par la gauche       0.99      0.99      0.99        90\n",
      "                                                         Carrefour giratoire       0.84      0.98      0.90        90\n",
      "                                              Fin d'interdiction de depasser       0.96      0.88      0.92        60\n",
      "                        Fin d'interdiction de depasser pour vehicules > 3.5t       1.00      0.99      0.99        90\n",
      "\n",
      "                                                                    accuracy                           0.97     12630\n",
      "                                                                   macro avg       0.97      0.95      0.95     12630\n",
      "                                                                weighted avg       0.97      0.97      0.97     12630\n",
      "\n"
     ]
    }
   ],
   "source": [
    "from sklearn.metrics import classification_report\n",
    "print(classification_report(y_true, y_pred, target_names=CLASSES.values()))\n"
   ]
  },
  {
   "cell_type": "markdown",
   "metadata": {},
   "source": [
    "## En conclusion"
   ]
  },
  {
   "cell_type": "markdown",
   "metadata": {},
   "source": [
    "<p>Notre modèle n'est pas le plus optimisé, on peut voir qu'il apprend beaucoup moins bien sur certaines classes, le plus souvent celles en sous-nombre.\n",
    "Pour pallier à ce problème nous voyons trois solutions : \n",
    "<li>réorganiser le jeu de données pour qu'il puisse correspondre au maximum à la parité du jeu de test.\n",
    "<li>totalement changer le traitement des données afin de plus avoir de triplets rgb mais transformer les images en noir et blanc.\n",
    "<li>utiliser les données du csv Roi pour avoir les différences précises dans l'image.<p/>\n",
    "<p>Ici, nous allons essayer la deuxième option, rapidement, pour voir si cela change quelque chose.<p/>"
   ]
  },
  {
   "cell_type": "code",
   "execution_count": 22,
   "metadata": {},
   "outputs": [],
   "source": [
    "# on commence par recolter les donnees et transformer les images en tensors\n",
    "raw_data_gr = datasets.ImageFolder(\"panneaux_route/Train\", transform=transforms.Compose(\n",
    "    [   transforms.Grayscale(num_output_channels=1),\n",
    "        transforms.Resize((32,32)),\n",
    "        transforms.ToTensor()\n",
    "    ]\n",
    "))\n",
    "\n",
    "# construisons le dataloader\n",
    "train_loader_gr = DataLoader(raw_data_gr, batch_size=256, shuffle=True)"
   ]
  },
  {
   "cell_type": "code",
   "execution_count": 23,
   "metadata": {},
   "outputs": [
    {
     "data": {
      "image/png": "[encoded data removed]",
      "text/plain": [
       "<Figure size 432x288 with 1 Axes>"
      ]
     },
     "metadata": {
      "needs_background": "light"
     },
     "output_type": "display_data"
    },
    {
     "name": "stdout",
     "output_type": "stream",
     "text": [
      "Intersection ou' vous etes prioritaire\n"
     ]
    },
    {
     "data": {
      "image/png": "[encoded data removed]",
      "text/plain": [
       "<Figure size 432x288 with 1 Axes>"
      ]
     },
     "metadata": {
      "needs_background": "light"
     },
     "output_type": "display_data"
    },
    {
     "name": "stdout",
     "output_type": "stream",
     "text": [
      "Fin des interdictions precedemment signalees\n"
     ]
    },
    {
     "data": {
      "image/png": "[encoded data removed]",
      "text/plain": [
       "<Figure size 432x288 with 1 Axes>"
      ]
     },
     "metadata": {
      "needs_background": "light"
     },
     "output_type": "display_data"
    },
    {
     "name": "stdout",
     "output_type": "stream",
     "text": [
      "Limitation de vitesse (30km/h)\n"
     ]
    },
    {
     "data": {
      "image/png": "[encoded data removed]",
      "text/plain": [
       "<Figure size 432x288 with 1 Axes>"
      ]
     },
     "metadata": {
      "needs_background": "light"
     },
     "output_type": "display_data"
    },
    {
     "name": "stdout",
     "output_type": "stream",
     "text": [
      "Limitation de vitesse (60km/h)\n"
     ]
    },
    {
     "data": {
      "image/png": "[encoded data removed]",
      "text/plain": [
       "<Figure size 432x288 with 1 Axes>"
      ]
     },
     "metadata": {
      "needs_background": "light"
     },
     "output_type": "display_data"
    },
    {
     "name": "stdout",
     "output_type": "stream",
     "text": [
      "Limitation de vitesse (60km/h)\n"
     ]
    }
   ],
   "source": [
    "for images, labels in train_loader_gr :\n",
    "    for i in range(5) :\n",
    "        plt.imshow(images[i].permute(1,2,0))\n",
    "        plt.show()\n",
    "        print(CLASSES[int(raw_data.classes[labels[i]])]) # pour palier au probleme d'ordre des classes voici ce que nous devons faire\n",
    "    break"
   ]
  },
  {
   "cell_type": "code",
   "execution_count": 24,
   "metadata": {},
   "outputs": [],
   "source": [
    "df = pd.read_csv('panneaux_route/Test.csv', sep=',')\n",
    "transformation = transforms.Compose([transforms.Grayscale(num_output_channels=1), transforms.Resize((32,32)), transforms.ToTensor()])\n",
    "\n",
    "labels = list(df['ClassId'])\n",
    "images = list(df['Path'])\n",
    "img_lst = []\n",
    "\n",
    "for img in images :\n",
    "    img = \"panneaux_route/\" + img\n",
    "    img_lst.append(transformation(Image.open(img)))"
   ]
  },
  {
   "cell_type": "code",
   "execution_count": 25,
   "metadata": {},
   "outputs": [],
   "source": [
    "# le dataset\n",
    "test_dataset_gr = MyDataSet(img_lst, labels)\n",
    "\n",
    "# le dataloader\n",
    "test_dataloader_gr = DataLoader(test_dataset_gr, batch_size=256)"
   ]
  },
  {
   "cell_type": "code",
   "execution_count": 26,
   "metadata": {},
   "outputs": [],
   "source": [
    "def validate_test_gr(data_loader, model):\n",
    "    nb_errors = 0\n",
    "    nb_tests = 0\n",
    "    for i, (images, labels) in enumerate(data_loader):\n",
    "        output = model(images.view(-1, 1, 32, 32)).argmax(1)\n",
    "        predictions = []\n",
    "        for prediction in output.tolist() :\n",
    "            predictions.append(raw_data.classes[prediction])\n",
    "\n",
    "        for i in range(len(predictions)) :\n",
    "            if int(predictions[i]) != int(labels[i]) :\n",
    "                nb_errors += 1\n",
    "        nb_tests += len(images)\n",
    "    \n",
    "    return (100*(nb_tests-nb_errors)) / nb_tests"
   ]
  },
  {
   "cell_type": "code",
   "execution_count": 27,
   "metadata": {},
   "outputs": [],
   "source": [
    "def train_loop_gr(train_loader, model, loss_map, lr=1e-3, epochs=20, weight_decay=0) :\n",
    "    history = []    #for monitoring\n",
    "\n",
    "    device = torch.device(\"cuda\" if torch.cuda.is_available() else \"cpu\")\n",
    "    print(device)\n",
    "    model.to(device)\n",
    "\n",
    "    optimizer = Adam(model.parameters(), lr=lr, weight_decay=weight_decay) # nous utilisons l'optimiseur Adam vu en cours\n",
    "\n",
    "    # boucle d'apprentissage\n",
    "    for epoch in range(epochs) :\n",
    "        loss_epoch = 0.\n",
    "        train_acc = 0.\n",
    "\n",
    "        model.train()\n",
    "\n",
    "        for images, labels in train_loader :\n",
    "            images, labels = images.to(device), labels.to(device)\n",
    "            output = model(images)\n",
    "            loss = loss_map(output, labels)\n",
    "\n",
    "            model.zero_grad()\n",
    "            loss.backward()\n",
    "            optimizer.step()\n",
    "\n",
    "            loss_epoch += loss.item()\n",
    "            train_acc += validate_normal(output, labels)\n",
    "\n",
    "        # affichage des differents epochs\n",
    "        model.eval()\n",
    "        test_acc = validate_test_gr(test_dataloader_gr, model)\n",
    "        train_acc = 100*train_acc/len(train_loader.dataset)\n",
    "        history.append(\n",
    "            {'epoch' : epoch + 1,\n",
    "             'loss' : loss_epoch,\n",
    "             'train_acc' : train_acc,\n",
    "             'valid_acc' : test_acc})\n",
    "        print(f\"epoch : {epoch + 1}/{epochs}, loss = {loss_epoch:.6f}, train_acc = {train_acc}, test_acc = {test_acc}%\")\n",
    "    return history"
   ]
  },
  {
   "cell_type": "code",
   "execution_count": 28,
   "metadata": {},
   "outputs": [
    {
     "name": "stdout",
     "output_type": "stream",
     "text": [
      "total nb parameters:  180815\n"
     ]
    }
   ],
   "source": [
    "net_gr = LeNet5(0, 1)\n",
    "\n",
    "total_nb_par = 0\n",
    "for p in net_gr.parameters():\n",
    "    total_nb_par += reduce(lambda x, y: x*y, p.shape, 1)\n",
    "print(\"total nb parameters: \", total_nb_par)"
   ]
  },
  {
   "cell_type": "code",
   "execution_count": 29,
   "metadata": {},
   "outputs": [
    {
     "name": "stdout",
     "output_type": "stream",
     "text": [
      "cpu\n",
      "epoch : 1/10, loss = 425.181040, train_acc = 28.786758142263256, test_acc = 77.54552652414885%\n",
      "epoch : 2/10, loss = 93.963205, train_acc = 84.81726134305899, test_acc = 92.09817893903404%\n",
      "epoch : 3/10, loss = 50.887416, train_acc = 92.77716850723048, test_acc = 94.59224069675376%\n",
      "epoch : 4/10, loss = 38.326804, train_acc = 95.22303552755744, test_acc = 96.00950118764845%\n",
      "epoch : 5/10, loss = 34.110610, train_acc = 95.94225815501542, test_acc = 95.36817102137768%\n",
      "epoch : 6/10, loss = 31.351010, train_acc = 96.4829503430335, test_acc = 95.41567695961996%\n",
      "epoch : 7/10, loss = 28.494428, train_acc = 97.04404600984468, test_acc = 95.93032462391132%\n",
      "epoch : 8/10, loss = 29.379790, train_acc = 96.78390165523221, test_acc = 96.46872525732383%\n",
      "epoch : 9/10, loss = 27.789174, train_acc = 97.11290775077151, test_acc = 96.57957244655582%\n",
      "epoch : 10/10, loss = 26.071305, train_acc = 97.3500981917417, test_acc = 96.27870150435471%\n"
     ]
    },
    {
     "data": {
      "image/png": "[encoded data removed]",
      "text/plain": [
       "<Figure size 432x288 with 1 Axes>"
      ]
     },
     "metadata": {
      "needs_background": "light"
     },
     "output_type": "display_data"
    },
    {
     "data": {
      "image/png": "[encoded data removed]",
      "text/plain": [
       "<Figure size 432x288 with 1 Axes>"
      ]
     },
     "metadata": {
      "needs_background": "light"
     },
     "output_type": "display_data"
    }
   ],
   "source": [
    "net_gr     = LeNet5(0.4, 1)\n",
    "history = train_loop_gr(train_loader_gr, net_gr, nn.CrossEntropyLoss(), lr=0.00155, epochs=10, weight_decay=0.008)\n",
    "\n",
    "show_loss(history)\n",
    "show_learning(history)"
   ]
  },
  {
   "cell_type": "code",
   "execution_count": 30,
   "metadata": {},
   "outputs": [
    {
     "name": "stdout",
     "output_type": "stream",
     "text": [
      "                                                                              precision    recall  f1-score   support\n",
      "\n",
      "                                              Limitation de vitesse (20km/h)       1.00      0.97      0.98        60\n",
      "                                              Limitation de vitesse (30km/h)       0.98      0.98      0.98       720\n",
      "                                              Limitation de vitesse (50km/h)       0.99      0.98      0.98       750\n",
      "                                              Limitation de vitesse (60km/h)       0.95      0.98      0.96       450\n",
      "                                              Limitation de vitesse (70km/h)       0.97      0.99      0.98       660\n",
      "                                              Limitation de vitesse (80km/h)       0.97      0.96      0.96       630\n",
      "                                       Fin de limitation de vitesse (80km/h)       0.99      0.89      0.94       150\n",
      "                                             Limitation de vitesse (100km/h)       0.94      0.92      0.93       450\n",
      "                                             Limitation de vitesse (120km/h)       0.93      0.98      0.95       450\n",
      "                                                    Interdiction de depasser       0.99      1.00      0.99       480\n",
      "                              Interdiction de depasser pour vehicules > 3.5t       1.00      0.99      0.99       660\n",
      "                                      Intersection ou' vous etes prioritaire       0.84      0.99      0.91       420\n",
      "                                                           Route prioritaire       0.98      0.97      0.97       690\n",
      "                                                            Ceder le passage       1.00      0.99      1.00       720\n",
      "                                                     Arret a' l'intersection       0.97      1.00      0.98       270\n",
      "                                                       Circulation interdite       0.99      0.97      0.98       210\n",
      "                                         Acces interdit aux vehicules > 3.5t       0.99      0.99      0.99       150\n",
      "                                                               Sens interdit       1.00      0.94      0.97       360\n",
      "                                                                      Danger       0.96      0.85      0.90       390\n",
      "                                                            Virage a' gauche       1.00      0.80      0.89        60\n",
      "                                                            Virage a' droite       0.92      1.00      0.96        90\n",
      "                                                       Succession de virages       0.88      0.92      0.90        90\n",
      "                                                         Cassis ou dos-d'ane       1.00      0.92      0.96       120\n",
      "                                                          Chaussee glissante       0.90      0.98      0.94       150\n",
      "                                             Chaussee retrecie par la droite       0.93      0.96      0.95        90\n",
      "                                                            Travaux en cours       0.97      0.98      0.97       480\n",
      "                                                                Annonce feux       0.90      0.87      0.88       180\n",
      "                                                             Passage pietons       0.94      0.48      0.64        60\n",
      "                                          Endroit frequente' par les enfants       0.99      0.99      0.99       150\n",
      "                                                      Debouche' de cyclistes       0.90      0.98      0.94        90\n",
      "                                                              Neige ou glace       0.92      0.63      0.75       150\n",
      "                                                  Passage d'animaux sauvages       0.93      0.98      0.95       270\n",
      "                                Fin des interdictions precedemment signalees       0.86      1.00      0.92        60\n",
      "              Direction obligatoire a' la prochaine intersection : a' droite       0.90      1.00      0.95       210\n",
      "              Direction obligatoire a' la prochaine intersection : a' gauche       0.99      0.99      0.99       120\n",
      "             Direction obligatoire a' la prochaine intersection : tout droit       0.98      1.00      0.99       390\n",
      "Direction obligatoire a' la prochaine intersection : tout droit ou a' droite       0.97      0.97      0.97       120\n",
      "Direction obligatoire a' la prochaine intersection : tout droit ou a' gauche       1.00      0.95      0.97        60\n",
      "                       Contournement obligatoire de l'obstacle par la droite       0.99      0.99      0.99       690\n",
      "                       Contournement obligatoire de l'obstacle par la gauche       1.00      1.00      1.00        90\n",
      "                                                         Carrefour giratoire       0.76      0.74      0.75        90\n",
      "                                              Fin d'interdiction de depasser       0.90      0.88      0.89        60\n",
      "                        Fin d'interdiction de depasser pour vehicules > 3.5t       0.97      0.93      0.95        90\n",
      "\n",
      "                                                                    accuracy                           0.96     12630\n",
      "                                                                   macro avg       0.95      0.94      0.94     12630\n",
      "                                                                weighted avg       0.96      0.96      0.96     12630\n",
      "\n"
     ]
    }
   ],
   "source": [
    "def get_metrics_gr(data_loader, model):\n",
    "    y_pred = []\n",
    "    y_true = []\n",
    "    for i, (images, labels) in enumerate(data_loader):\n",
    "        \n",
    "        output = model(images.view(-1, 1, 32, 32)).argmax(1)\n",
    "        #print(output)\n",
    "        predictions = []\n",
    "\n",
    "        for prediction in output.tolist() :\n",
    "            predictions.append(raw_data.classes[prediction])\n",
    "        for i in range(len(predictions)) :\n",
    "            y_pred.append(int(predictions[i]))\n",
    "            y_true.append(int(labels[i]))\n",
    "            \n",
    "    return y_pred, y_true\n",
    "y_pred, y_true = get_metrics_gr(test_dataloader_gr, net_gr)\n",
    "print(classification_report(y_true, y_pred, target_names=CLASSES.values()))"
   ]
  },
  {
   "cell_type": "markdown",
   "metadata": {},
   "source": [
    "## Sauvegarde des models"
   ]
  },
  {
   "cell_type": "code",
   "execution_count": 31,
   "metadata": {},
   "outputs": [],
   "source": [
    "torch.save(net.state_dict(), \"model_rgb.pt\")\n",
    "torch.save(net_gr.state_dict(), \"model_gr.pt\")"
   ]
  },
  {
   "cell_type": "markdown",
   "metadata": {},
   "source": [
    "## Résultat\n",
    "<p>Nous avons observé que la réussite de notre modèle en nuances de gris ne changeait pas de beaucoup. Pourtant, l'idée n'est pas totalement à jeter. Après avoir arpenté les Internets, nous avons pu constater bons nombres de papiers de recherche sur le sujet, et généralement, les CNN préfèrent les images en nuances de gris. Dans notre cas précis, il fallait peut-être réduire les images directement à la taille des rois indiquées dans le .csv</p>"
   ]
  }
 ],
 "metadata": {
  "interpreter": {
   "hash": "51892a1d717e43c55a8a364d6e6dc675667acf06e60504502a3c611cc26f5ad5"
  },
  "kernelspec": {
   "display_name": "Python 3.9.7 ('anaconda3')",
   "language": "python",
   "name": "python3"
  },
  "language_info": {
   "codemirror_mode": {
    "name": "ipython",
    "version": 3
   },
   "file_extension": ".py",
   "mimetype": "text/x-python",
   "name": "python",
   "nbconvert_exporter": "python",
   "pygments_lexer": "ipython3",
   "version": "3.9.7"
  },
  "orig_nbformat": 4
 },
 "nbformat": 4,
 "nbformat_minor": 2
}
